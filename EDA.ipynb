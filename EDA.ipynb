{
 "cells": [
  {
   "cell_type": "markdown",
   "metadata": {
    "id": "4b4hY0_uaNky"
   },
   "source": [
    "\n",
    "# Tinkoff sirius ML 2023 RecSys intro task (EDA)"
   ]
  },
  {
   "cell_type": "markdown",
   "metadata": {
    "id": "Obv4zcs2W_xo"
   },
   "source": [
    "### Бибилиотеки и данные"
   ]
  },
  {
   "cell_type": "code",
   "execution_count": 1,
   "metadata": {
    "id": "p6R2Pqnms-OF"
   },
   "outputs": [],
   "source": [
    "import numpy as np\n",
    "import pandas as pd\n",
    "import matplotlib.pyplot as plt\n",
    "\n",
    "# Включим сетку в графиках\n",
    "plt.rc('axes', grid=True)"
   ]
  },
  {
   "cell_type": "code",
   "execution_count": 2,
   "metadata": {
    "id": "CXYVc_SytCtR"
   },
   "outputs": [],
   "source": [
    "data_folder = 'kion_data/'\n",
    "\n",
    "items_df = pd.read_csv(data_folder + 'items.csv')\n",
    "interactions_df = pd.read_csv(data_folder + 'train_data.csv')\n",
    "users_df = pd.read_csv(data_folder + 'users.csv')"
   ]
  },
  {
   "cell_type": "markdown",
   "metadata": {
    "id": "KR9OW3mlXDms"
   },
   "source": [
    "## EDA"
   ]
  },
  {
   "cell_type": "markdown",
   "metadata": {
    "id": "2hepfG60ceaV"
   },
   "source": [
    "### Пользователи"
   ]
  },
  {
   "cell_type": "code",
   "execution_count": 3,
   "metadata": {
    "colab": {
     "base_uri": "https://localhost:8080/",
     "height": 144
    },
    "executionInfo": {
     "elapsed": 73,
     "status": "ok",
     "timestamp": 1693818805627,
     "user": {
      "displayName": "Кирилл",
      "userId": "12610477662257539617"
     },
     "user_tz": -180
    },
    "id": "U86NRfqWt8yD",
    "outputId": "b5608991-830f-46c4-ab69-b52b368dd575"
   },
   "outputs": [
    {
     "data": {
      "text/html": [
       "<div>\n",
       "<style scoped>\n",
       "    .dataframe tbody tr th:only-of-type {\n",
       "        vertical-align: middle;\n",
       "    }\n",
       "\n",
       "    .dataframe tbody tr th {\n",
       "        vertical-align: top;\n",
       "    }\n",
       "\n",
       "    .dataframe thead th {\n",
       "        text-align: right;\n",
       "    }\n",
       "</style>\n",
       "<table border=\"1\" class=\"dataframe\">\n",
       "  <thead>\n",
       "    <tr style=\"text-align: right;\">\n",
       "      <th></th>\n",
       "      <th>user_id</th>\n",
       "      <th>age</th>\n",
       "      <th>income</th>\n",
       "      <th>sex</th>\n",
       "      <th>kids_flg</th>\n",
       "    </tr>\n",
       "  </thead>\n",
       "  <tbody>\n",
       "    <tr>\n",
       "      <th>53061</th>\n",
       "      <td>437802</td>\n",
       "      <td>age_65_inf</td>\n",
       "      <td>income_20_40</td>\n",
       "      <td>Ж</td>\n",
       "      <td>0</td>\n",
       "    </tr>\n",
       "    <tr>\n",
       "      <th>43321</th>\n",
       "      <td>632932</td>\n",
       "      <td>age_55_64</td>\n",
       "      <td>income_20_40</td>\n",
       "      <td>Ж</td>\n",
       "      <td>0</td>\n",
       "    </tr>\n",
       "    <tr>\n",
       "      <th>88819</th>\n",
       "      <td>659883</td>\n",
       "      <td>age_35_44</td>\n",
       "      <td>income_20_40</td>\n",
       "      <td>М</td>\n",
       "      <td>0</td>\n",
       "    </tr>\n",
       "  </tbody>\n",
       "</table>\n",
       "</div>"
      ],
      "text/plain": [
       "       user_id         age        income sex  kids_flg\n",
       "53061   437802  age_65_inf  income_20_40   Ж         0\n",
       "43321   632932   age_55_64  income_20_40   Ж         0\n",
       "88819   659883   age_35_44  income_20_40   М         0"
      ]
     },
     "execution_count": 3,
     "metadata": {},
     "output_type": "execute_result"
    }
   ],
   "source": [
    "users_df.sample(3)"
   ]
  },
  {
   "cell_type": "code",
   "execution_count": 4,
   "metadata": {
    "colab": {
     "base_uri": "https://localhost:8080/"
    },
    "executionInfo": {
     "elapsed": 70,
     "status": "ok",
     "timestamp": 1693818805628,
     "user": {
      "displayName": "Кирилл",
      "userId": "12610477662257539617"
     },
     "user_tz": -180
    },
    "id": "oZqtSvldmGmj",
    "outputId": "51f0513f-7234-469e-827d-d6397af08861"
   },
   "outputs": [
    {
     "name": "stdout",
     "output_type": "stream",
     "text": [
      "Общее количество пользователей: 366,088\n"
     ]
    }
   ],
   "source": [
    "print(f'Общее количество пользователей: {len(users_df):,}')"
   ]
  },
  {
   "cell_type": "markdown",
   "metadata": {
    "id": "fjCdMT4tvckT"
   },
   "source": [
    "1. `user_id` – индентификатор пользователя, уникален для каждого\n",
    "2. `age` – категориальный признак, показывающий возрастную группу пользователя\n",
    "3. `income` – категориальный признак, показывающий зарплатную группу пользователя\n",
    "4. `sex` – пол пользователя\n",
    "5. `kids_flg` – наличие детей у пользователя"
   ]
  },
  {
   "cell_type": "markdown",
   "metadata": {
    "id": "zic-eXu-jxij"
   },
   "source": [
    "Для каждой колонки посмотрим все количество принимаемых значений, количество пропусков, типы."
   ]
  },
  {
   "cell_type": "code",
   "execution_count": 5,
   "metadata": {
    "colab": {
     "base_uri": "https://localhost:8080/"
    },
    "executionInfo": {
     "elapsed": 60,
     "status": "ok",
     "timestamp": 1693818805629,
     "user": {
      "displayName": "Кирилл",
      "userId": "12610477662257539617"
     },
     "user_tz": -180
    },
    "id": "j-oYhrjmjwS5",
    "outputId": "5c3573b5-1ae7-4718-cf12-c417f854c39a"
   },
   "outputs": [
    {
     "name": "stdout",
     "output_type": "stream",
     "text": [
      "Количество уникальных значений в данных:\n",
      "\n",
      "user_id     366088\n",
      "age              6\n",
      "income           6\n",
      "sex              2\n",
      "kids_flg         2\n",
      "dtype: int64\n"
     ]
    }
   ],
   "source": [
    "print('Количество уникальных значений в данных:', '\\n\\n', users_df.nunique(), sep='')"
   ]
  },
  {
   "cell_type": "code",
   "execution_count": 6,
   "metadata": {
    "colab": {
     "base_uri": "https://localhost:8080/"
    },
    "executionInfo": {
     "elapsed": 54,
     "status": "ok",
     "timestamp": 1693818805630,
     "user": {
      "displayName": "Кирилл",
      "userId": "12610477662257539617"
     },
     "user_tz": -180
    },
    "id": "rs1FxXcUTsn1",
    "outputId": "60acf533-95c8-44c4-c6b1-8a9fe8689543"
   },
   "outputs": [
    {
     "name": "stdout",
     "output_type": "stream",
     "text": [
      "Количество пропусков в данных:\n",
      "\n",
      "user_id        0\n",
      "age         3582\n",
      "income      3349\n",
      "sex         4061\n",
      "kids_flg       0\n",
      "dtype: int64\n"
     ]
    }
   ],
   "source": [
    "print('Количество пропусков в данных:', '\\n\\n', users_df.isna().sum(), sep='')"
   ]
  },
  {
   "cell_type": "code",
   "execution_count": 7,
   "metadata": {
    "colab": {
     "base_uri": "https://localhost:8080/"
    },
    "executionInfo": {
     "elapsed": 48,
     "status": "ok",
     "timestamp": 1693818805631,
     "user": {
      "displayName": "Кирилл",
      "userId": "12610477662257539617"
     },
     "user_tz": -180
    },
    "id": "yFe6RlI2wpze",
    "outputId": "7fc7d773-857a-468a-cef7-715264a90802"
   },
   "outputs": [
    {
     "name": "stdout",
     "output_type": "stream",
     "text": [
      "Типы данных:\n",
      "\n",
      "user_id      int64\n",
      "age         object\n",
      "income      object\n",
      "sex         object\n",
      "kids_flg     int64\n",
      "dtype: object\n"
     ]
    }
   ],
   "source": [
    "print('Типы данных:', '\\n\\n', users_df.dtypes, sep='')"
   ]
  },
  {
   "cell_type": "markdown",
   "metadata": {
    "id": "7Cy_1FIZcitY"
   },
   "source": [
    "Переведем признаки `age`, `income`, `sex`, к категориальному типу. `kids_flg` к `bool` так как там нет пропусков.\n"
   ]
  },
  {
   "cell_type": "code",
   "execution_count": 8,
   "metadata": {
    "id": "Bq1k2A-0cyhF"
   },
   "outputs": [],
   "source": [
    "for col in ['income', 'age', 'sex']:\n",
    "  users_df[col] = users_df[col].astype('category')\n",
    "\n",
    "users_df['kids_flg'] = users_df['kids_flg'].astype(bool)"
   ]
  },
  {
   "cell_type": "markdown",
   "metadata": {
    "id": "G66iMHMhlRw3"
   },
   "source": [
    "\n",
    "Имеет смысл посмотреть на **barplot**."
   ]
  },
  {
   "cell_type": "code",
   "execution_count": 9,
   "metadata": {
    "colab": {
     "base_uri": "https://localhost:8080/",
     "height": 1000
    },
    "executionInfo": {
     "elapsed": 1438,
     "status": "ok",
     "timestamp": 1693818807957,
     "user": {
      "displayName": "Кирилл",
      "userId": "12610477662257539617"
     },
     "user_tz": -180
    },
    "id": "gjsR2wMdd-2s",
    "outputId": "0f27d733-f8b2-4969-b902-78a6839dd5e2"
   },
   "outputs": [
    {
     "data": {
      "image/png": "[encoded data removed]",
      "text/plain": [
       "<Figure size 1000x1000 with 4 Axes>"
      ]
     },
     "metadata": {},
     "output_type": "display_data"
    }
   ],
   "source": [
    "fig, axes = plt.subplots(2, 2, figsize=(10, 10))\n",
    "\n",
    "for num, col in enumerate(['income', 'age', 'sex', 'kids_flg'], start=0):\n",
    "  row = num // 2\n",
    "  col_num = num % 2\n",
    "  category_counts = users_df[col].value_counts(dropna=False)\n",
    "  category_counts.plot(kind='bar', ax=axes[row, col_num])\n",
    "  axes[row, col_num].set_title(col)\n",
    "\n",
    "\n",
    "plt.tight_layout()\n",
    "plt.show()"
   ]
  },
  {
   "cell_type": "markdown",
   "metadata": {
    "id": "4vRHE_m_cwjx"
   },
   "source": [
    "Достаточно равномерное распределение пола, что нельзя сказать о доходах и возрасте."
   ]
  },
  {
   "cell_type": "markdown",
   "metadata": {
    "id": "0eeOFFOCaSPo"
   },
   "source": [
    "### Фильмы"
   ]
  },
  {
   "cell_type": "code",
   "execution_count": 10,
   "metadata": {
    "colab": {
     "base_uri": "https://localhost:8080/",
     "height": 626
    },
    "executionInfo": {
     "elapsed": 43,
     "status": "ok",
     "timestamp": 1693818807958,
     "user": {
      "displayName": "Кирилл",
      "userId": "12610477662257539617"
     },
     "user_tz": -180
    },
    "id": "CKcdjWH4q5vh",
    "outputId": "dab48610-8f52-43f8-c6df-5a7954652d23"
   },
   "outputs": [
    {
     "data": {
      "text/html": [
       "<div>\n",
       "<style scoped>\n",
       "    .dataframe tbody tr th:only-of-type {\n",
       "        vertical-align: middle;\n",
       "    }\n",
       "\n",
       "    .dataframe tbody tr th {\n",
       "        vertical-align: top;\n",
       "    }\n",
       "\n",
       "    .dataframe thead th {\n",
       "        text-align: right;\n",
       "    }\n",
       "</style>\n",
       "<table border=\"1\" class=\"dataframe\">\n",
       "  <thead>\n",
       "    <tr style=\"text-align: right;\">\n",
       "      <th></th>\n",
       "      <th>item_id</th>\n",
       "      <th>content_type</th>\n",
       "      <th>title</th>\n",
       "      <th>title_orig</th>\n",
       "      <th>release_year</th>\n",
       "      <th>genres</th>\n",
       "      <th>countries</th>\n",
       "      <th>for_kids</th>\n",
       "      <th>age_rating</th>\n",
       "      <th>studios</th>\n",
       "      <th>directors</th>\n",
       "      <th>actors</th>\n",
       "      <th>description</th>\n",
       "      <th>keywords</th>\n",
       "    </tr>\n",
       "  </thead>\n",
       "  <tbody>\n",
       "    <tr>\n",
       "      <th>5866</th>\n",
       "      <td>15051</td>\n",
       "      <td>film</td>\n",
       "      <td>Порочная связь</td>\n",
       "      <td>Lacci</td>\n",
       "      <td>2020.0</td>\n",
       "      <td>драмы</td>\n",
       "      <td>Италия, Франция</td>\n",
       "      <td>NaN</td>\n",
       "      <td>18.0</td>\n",
       "      <td>NaN</td>\n",
       "      <td>Даниэле Лукетти</td>\n",
       "      <td>Альба Рорвахер, Луиджи Ло Кашио, Лаура Моранте...</td>\n",
       "      <td>Когда Альдо и Ванда были молодыми, их жизнь на...</td>\n",
       "      <td>кризис брака, 2020, италия, франция, порочная,...</td>\n",
       "    </tr>\n",
       "    <tr>\n",
       "      <th>2917</th>\n",
       "      <td>2611</td>\n",
       "      <td>film</td>\n",
       "      <td>Захочу и соскочу. Супергерои</td>\n",
       "      <td>Smetto quando voglio: Ad honorem</td>\n",
       "      <td>2017.0</td>\n",
       "      <td>боевики, комедии</td>\n",
       "      <td>Италия</td>\n",
       "      <td>NaN</td>\n",
       "      <td>16.0</td>\n",
       "      <td>NaN</td>\n",
       "      <td>Сидней Сибилиа</td>\n",
       "      <td>Эдоардо Лео, Валерио Эпри, Паоло Калабрези, Ли...</td>\n",
       "      <td>Пьетро Дзинни в тюрьме за производство легальн...</td>\n",
       "      <td>университет, нелегальные наркотики, , Газ, Инж...</td>\n",
       "    </tr>\n",
       "    <tr>\n",
       "      <th>1915</th>\n",
       "      <td>14861</td>\n",
       "      <td>film</td>\n",
       "      <td>Красотка на всю голову</td>\n",
       "      <td>I Feel Pretty</td>\n",
       "      <td>2018.0</td>\n",
       "      <td>мелодрамы, комедии</td>\n",
       "      <td>Китай, США</td>\n",
       "      <td>NaN</td>\n",
       "      <td>16.0</td>\n",
       "      <td>NaN</td>\n",
       "      <td>Эбби Кон, Марк Силверштейн</td>\n",
       "      <td>Эми Шумер, Мишель Уильямс, Том Хоппер, Рори Ск...</td>\n",
       "      <td>Ее жизнь состояла из вечных попыток сесть на д...</td>\n",
       "      <td>уверенность, заблуждение, черепно-мозговая тра...</td>\n",
       "    </tr>\n",
       "    <tr>\n",
       "      <th>7294</th>\n",
       "      <td>1677</td>\n",
       "      <td>film</td>\n",
       "      <td>Носферату. Ужас ночи</td>\n",
       "      <td>Nosferatu. Uzhas nochi</td>\n",
       "      <td>2010.0</td>\n",
       "      <td>ужасы, мультфильм, детективы, комедии</td>\n",
       "      <td>Россия</td>\n",
       "      <td>NaN</td>\n",
       "      <td>16.0</td>\n",
       "      <td>NaN</td>\n",
       "      <td>Владимир Мариничев</td>\n",
       "      <td>Владимир Мариничев, Михаил Хрусталёв, Анатолий...</td>\n",
       "      <td>Молодой клерк Джонатан отправляется за тридевя...</td>\n",
       "      <td>2010, россия, носферату, ужас, ночи</td>\n",
       "    </tr>\n",
       "    <tr>\n",
       "      <th>7593</th>\n",
       "      <td>10745</td>\n",
       "      <td>series</td>\n",
       "      <td>Слабая женщина</td>\n",
       "      <td>NaN</td>\n",
       "      <td>2014.0</td>\n",
       "      <td>русские, мелодрамы</td>\n",
       "      <td>Россия</td>\n",
       "      <td>NaN</td>\n",
       "      <td>12.0</td>\n",
       "      <td>NaN</td>\n",
       "      <td>Всеволод Аравин</td>\n",
       "      <td>Александр Багрянцев, Александр Хващинский, Ана...</td>\n",
       "      <td>Люся замечательная хозяйка, образцовая жена, п...</td>\n",
       "      <td>Слабая, женщина, 2014, Россия, брак, жизнь, лю...</td>\n",
       "    </tr>\n",
       "  </tbody>\n",
       "</table>\n",
       "</div>"
      ],
      "text/plain": [
       "      item_id content_type                         title  \\\n",
       "5866    15051         film                Порочная связь   \n",
       "2917     2611         film  Захочу и соскочу. Супергерои   \n",
       "1915    14861         film        Красотка на всю голову   \n",
       "7294     1677         film          Носферату. Ужас ночи   \n",
       "7593    10745       series                Слабая женщина   \n",
       "\n",
       "                            title_orig  release_year  \\\n",
       "5866                             Lacci        2020.0   \n",
       "2917  Smetto quando voglio: Ad honorem        2017.0   \n",
       "1915                     I Feel Pretty        2018.0   \n",
       "7294            Nosferatu. Uzhas nochi        2010.0   \n",
       "7593                               NaN        2014.0   \n",
       "\n",
       "                                     genres        countries  for_kids  \\\n",
       "5866                                  драмы  Италия, Франция       NaN   \n",
       "2917                       боевики, комедии           Италия       NaN   \n",
       "1915                     мелодрамы, комедии       Китай, США       NaN   \n",
       "7294  ужасы, мультфильм, детективы, комедии           Россия       NaN   \n",
       "7593                     русские, мелодрамы           Россия       NaN   \n",
       "\n",
       "      age_rating studios                   directors  \\\n",
       "5866        18.0     NaN             Даниэле Лукетти   \n",
       "2917        16.0     NaN              Сидней Сибилиа   \n",
       "1915        16.0     NaN  Эбби Кон, Марк Силверштейн   \n",
       "7294        16.0     NaN          Владимир Мариничев   \n",
       "7593        12.0     NaN             Всеволод Аравин   \n",
       "\n",
       "                                                 actors  \\\n",
       "5866  Альба Рорвахер, Луиджи Ло Кашио, Лаура Моранте...   \n",
       "2917  Эдоардо Лео, Валерио Эпри, Паоло Калабрези, Ли...   \n",
       "1915  Эми Шумер, Мишель Уильямс, Том Хоппер, Рори Ск...   \n",
       "7294  Владимир Мариничев, Михаил Хрусталёв, Анатолий...   \n",
       "7593  Александр Багрянцев, Александр Хващинский, Ана...   \n",
       "\n",
       "                                            description  \\\n",
       "5866  Когда Альдо и Ванда были молодыми, их жизнь на...   \n",
       "2917  Пьетро Дзинни в тюрьме за производство легальн...   \n",
       "1915  Ее жизнь состояла из вечных попыток сесть на д...   \n",
       "7294  Молодой клерк Джонатан отправляется за тридевя...   \n",
       "7593  Люся замечательная хозяйка, образцовая жена, п...   \n",
       "\n",
       "                                               keywords  \n",
       "5866  кризис брака, 2020, италия, франция, порочная,...  \n",
       "2917  университет, нелегальные наркотики, , Газ, Инж...  \n",
       "1915  уверенность, заблуждение, черепно-мозговая тра...  \n",
       "7294                2010, россия, носферату, ужас, ночи  \n",
       "7593  Слабая, женщина, 2014, Россия, брак, жизнь, лю...  "
      ]
     },
     "execution_count": 10,
     "metadata": {},
     "output_type": "execute_result"
    }
   ],
   "source": [
    "items_df.sample(5)"
   ]
  },
  {
   "cell_type": "code",
   "execution_count": 11,
   "metadata": {
    "colab": {
     "base_uri": "https://localhost:8080/"
    },
    "executionInfo": {
     "elapsed": 40,
     "status": "ok",
     "timestamp": 1693818807959,
     "user": {
      "displayName": "Кирилл",
      "userId": "12610477662257539617"
     },
     "user_tz": -180
    },
    "id": "rwVY4Pr5EE2B",
    "outputId": "9c40c502-a843-4495-c200-401ea5832f81"
   },
   "outputs": [
    {
     "name": "stdout",
     "output_type": "stream",
     "text": [
      "Общее количество фильмов: 12,067\n"
     ]
    }
   ],
   "source": [
    "print(f'Общее количество фильмов: {len(items_df):,}')"
   ]
  },
  {
   "cell_type": "markdown",
   "metadata": {
    "id": "gM4SLGi8r0ty"
   },
   "source": [
    "1. `item_id` – индентификатор айтема, уникален для каждого\n",
    "2. `content_type` – категориальный признак, тип айтема (фильм, сериал и т.д.)\n",
    "3. `title` – Название на русском языке\n",
    "4. `title_orig` – Название на языке оригинала\n",
    "5. `release_year` – год выхода\n",
    "6. `genres` – список жанров (представлен строкой)\n",
    "7. `countries` – страна издания\n",
    "8. `for_kids` – предназначен для детей\n",
    "9. `age_rating` – возрастной рейтинг картины\n",
    "10. `studios` – студия, выпустившая картину\n",
    "11. `directors` – режиссер(ы)\n",
    "12. `actors` – актёры\n",
    "13. `description` – описание (на русском)\n",
    "14. `keywords` – ключевые слова, описывающие картину"
   ]
  },
  {
   "cell_type": "markdown",
   "metadata": {
    "id": "2qo6hwKKYMzb"
   },
   "source": [
    "Для каждой колонки посмотрим все количество принимаемых значений, количество пропусков, типы."
   ]
  },
  {
   "cell_type": "code",
   "execution_count": 12,
   "metadata": {
    "colab": {
     "base_uri": "https://localhost:8080/"
    },
    "executionInfo": {
     "elapsed": 35,
     "status": "ok",
     "timestamp": 1693818807960,
     "user": {
      "displayName": "Кирилл",
      "userId": "12610477662257539617"
     },
     "user_tz": -180
    },
    "id": "TEL-qH0DFMoS",
    "outputId": "937005f4-0a51-465a-af3a-7723751e037d"
   },
   "outputs": [
    {
     "name": "stdout",
     "output_type": "stream",
     "text": [
      "Типы данных:\n",
      "\n",
      "item_id           int64\n",
      "content_type     object\n",
      "title            object\n",
      "title_orig       object\n",
      "release_year    float64\n",
      "genres           object\n",
      "countries        object\n",
      "for_kids        float64\n",
      "age_rating      float64\n",
      "studios          object\n",
      "directors        object\n",
      "actors           object\n",
      "description      object\n",
      "keywords         object\n",
      "dtype: object\n"
     ]
    }
   ],
   "source": [
    "print('Типы данных:', '\\n\\n', items_df.dtypes, sep='')"
   ]
  },
  {
   "cell_type": "code",
   "execution_count": 13,
   "metadata": {
    "colab": {
     "base_uri": "https://localhost:8080/"
    },
    "executionInfo": {
     "elapsed": 32,
     "status": "ok",
     "timestamp": 1693818807961,
     "user": {
      "displayName": "Кирилл",
      "userId": "12610477662257539617"
     },
     "user_tz": -180
    },
    "id": "WTey9iJgHZUW",
    "outputId": "1849fd38-1cd9-454b-8543-4193a0f3c997"
   },
   "outputs": [
    {
     "name": "stdout",
     "output_type": "stream",
     "text": [
      "Количество уникальных значений в данных:\n",
      "\n",
      "item_id         12067\n",
      "content_type        2\n",
      "title           11621\n",
      "title_orig       8675\n",
      "release_year      102\n",
      "genres           2312\n",
      "countries         636\n",
      "for_kids            2\n",
      "age_rating          6\n",
      "studios            37\n",
      "directors        6576\n",
      "actors          10039\n",
      "description     11819\n",
      "keywords        11663\n",
      "dtype: int64\n"
     ]
    }
   ],
   "source": [
    "print('Количество уникальных значений в данных:', '\\n\\n', items_df.nunique(), sep='')"
   ]
  },
  {
   "cell_type": "code",
   "execution_count": 14,
   "metadata": {
    "colab": {
     "base_uri": "https://localhost:8080/"
    },
    "executionInfo": {
     "elapsed": 28,
     "status": "ok",
     "timestamp": 1693818807962,
     "user": {
      "displayName": "Кирилл",
      "userId": "12610477662257539617"
     },
     "user_tz": -180
    },
    "id": "atFxQvFVI5uq",
    "outputId": "c2137b48-eb83-4ffb-bf77-039eea027c0b"
   },
   "outputs": [
    {
     "name": "stdout",
     "output_type": "stream",
     "text": [
      "Количество пропусков в данных:\n",
      "\n",
      "item_id             0\n",
      "content_type        0\n",
      "title               0\n",
      "title_orig       2923\n",
      "release_year       48\n",
      "genres              0\n",
      "countries          16\n",
      "for_kids        11539\n",
      "age_rating          1\n",
      "studios         11318\n",
      "directors         907\n",
      "actors           1799\n",
      "description         1\n",
      "keywords          362\n",
      "dtype: int64\n"
     ]
    }
   ],
   "source": [
    "print('Количество пропусков в данных:', '\\n\\n',  items_df.isna().sum(), sep='')"
   ]
  },
  {
   "cell_type": "markdown",
   "metadata": {
    "id": "hGi-36cSdMF0"
   },
   "source": [
    "Признак `for_kids` кажется почти бесполезным, а вот про `title_orig` появляется препдоположение, что у фильмов страны СНГ  `title_orig` отсутсвует, так как он может совдать с `title`."
   ]
  },
  {
   "cell_type": "code",
   "execution_count": 15,
   "metadata": {
    "colab": {
     "base_uri": "https://localhost:8080/"
    },
    "executionInfo": {
     "elapsed": 23,
     "status": "ok",
     "timestamp": 1693818807963,
     "user": {
      "displayName": "Кирилл",
      "userId": "12610477662257539617"
     },
     "user_tz": -180
    },
    "id": "f7ao4fu2disJ",
    "outputId": "4cee5820-e301-4a06-a032-9c9cd3918e8c"
   },
   "outputs": [
    {
     "data": {
      "text/plain": [
       "Россия                                                       1903\n",
       "СССР                                                          442\n",
       "Украина                                                       125\n",
       "США                                                            78\n",
       "Великобритания                                                 66\n",
       "Республика Корея                                               46\n",
       "Казахстан                                                      39\n",
       "Франция                                                        28\n",
       "Испания                                                        16\n",
       "Китай                                                          15\n",
       "Канада                                                         14\n",
       "Индия                                                          14\n",
       "Киргизия                                                       12\n",
       "Беларусь                                                        9\n",
       "Турция                                                          9\n",
       "Япония                                                          8\n",
       "Дания                                                           7\n",
       "Швеция                                                          7\n",
       "Нидерланды                                                      7\n",
       "Ирландия                                                        5\n",
       "Норвегия                                                        5\n",
       "Австралия                                                       4\n",
       "Италия                                                          4\n",
       "Россия, Украина                                                 4\n",
       "Мексика                                                         4\n",
       "Колумбия                                                        4\n",
       "Германия                                                        4\n",
       "Бельгия                                                         4\n",
       "Аргентина                                                       3\n",
       "Новая Зеландия                                                  3\n",
       "Армения                                                         2\n",
       "Португалия                                                      2\n",
       "Словения                                                        1\n",
       "Кипр                                                            1\n",
       "Малайзия                                                        1\n",
       "Коста-Рика                                                      1\n",
       "Финляндия                                                       1\n",
       "Швейцария                                                       1\n",
       "Узбекистан                                                      1\n",
       "Индонезия                                                       1\n",
       "Россия, США                                                     1\n",
       "Великобритания, США, Канада                                     1\n",
       "Хорватия, Люксембург, Норвегия, Чехия, Словакия, Словения       1\n",
       "Польша                                                          1\n",
       "Россия, Великобритания, Австрия                                 1\n",
       "Бразилия                                                        1\n",
       "Россия, Франция                                                 1\n",
       "США, Нидерланды, Аргентина, Франция                             1\n",
       "Перу                                                            1\n",
       "Name: countries, dtype: int64"
      ]
     },
     "execution_count": 15,
     "metadata": {},
     "output_type": "execute_result"
    }
   ],
   "source": [
    "items_df[['countries', 'title', 'title_orig']][items_df['title_orig'].isna()]['countries'].value_counts()"
   ]
  },
  {
   "cell_type": "markdown",
   "metadata": {
    "id": "P-TfwRk4egfU"
   },
   "source": [
    "Предположение оказалось верным отчасти. Давайте заменим для стран снг **nan** в `title_orig` на `title`."
   ]
  },
  {
   "cell_type": "code",
   "execution_count": 16,
   "metadata": {
    "id": "AIR75uuoe0_k"
   },
   "outputs": [],
   "source": [
    "CIS_countries = ['Россия', 'СССР', 'Украина', 'Беларусь', 'Россия, Украина']\n",
    "\n",
    "for country in CIS_countries:\n",
    "  condition = (items_df['title_orig'].isna()) & (items_df['countries'] == country)\n",
    "  items_df.loc[condition, 'title_orig'] = items_df.loc[condition, 'title']"
   ]
  },
  {
   "cell_type": "code",
   "execution_count": 17,
   "metadata": {
    "colab": {
     "base_uri": "https://localhost:8080/"
    },
    "executionInfo": {
     "elapsed": 38,
     "status": "ok",
     "timestamp": 1693818809156,
     "user": {
      "displayName": "Кирилл",
      "userId": "12610477662257539617"
     },
     "user_tz": -180
    },
    "id": "iN2DCPB1f36J",
    "outputId": "90675259-fb4f-4823-908e-9246928060e9"
   },
   "outputs": [
    {
     "name": "stdout",
     "output_type": "stream",
     "text": [
      "Количество пропусков теперь: 440\n"
     ]
    }
   ],
   "source": [
    "print('Количество пропусков теперь:', items_df['title_orig'].isna().sum())"
   ]
  },
  {
   "cell_type": "code",
   "execution_count": 18,
   "metadata": {
    "colab": {
     "base_uri": "https://localhost:8080/"
    },
    "executionInfo": {
     "elapsed": 34,
     "status": "ok",
     "timestamp": 1693818809157,
     "user": {
      "displayName": "Кирилл",
      "userId": "12610477662257539617"
     },
     "user_tz": -180
    },
    "id": "oQv2LfDQhDaF",
    "outputId": "e88bc7e3-c618-41ff-8125-e5e7ca0e5a8f"
   },
   "outputs": [
    {
     "name": "stdout",
     "output_type": "stream",
     "text": [
      "Уменьшили количество пропусков в 6.6 раз.\n"
     ]
    }
   ],
   "source": [
    "print(f'Уменьшили количество пропусков в {round(2923/440, 1)} раз.')"
   ]
  },
  {
   "cell_type": "markdown",
   "metadata": {
    "id": "VhsgOQarHKlC"
   },
   "source": [
    "Переведем признаки `content_type`, `release_year`, `for_kids`, `age_rating`, `studios`, `directors` к категориальным."
   ]
  },
  {
   "cell_type": "code",
   "execution_count": 19,
   "metadata": {
    "id": "pKwNp5-KGJDT"
   },
   "outputs": [],
   "source": [
    "items_category_col = ['content_type', 'release_year', 'for_kids',\n",
    "                      'age_rating', 'studios', 'directors', 'genres']\n",
    "\n",
    "for col in items_category_col:\n",
    "  items_df[col] = items_df[col].astype('category')"
   ]
  },
  {
   "cell_type": "markdown",
   "metadata": {
    "id": "vuz0iklPXazp"
   },
   "source": [
    "Как было видно выше, `age_rating`, `release_year`, `for_kids` отображаются с точками. Исправим это для лучшей читаемости.\n",
    "\n"
   ]
  },
  {
   "cell_type": "code",
   "execution_count": 20,
   "metadata": {
    "id": "PpDbkwmVXZ80"
   },
   "outputs": [],
   "source": [
    "for col in ['age_rating', 'release_year', 'for_kids']:\n",
    "  items_df[col] = items_df[col].apply(lambda x: int(x) if x != np.nan else np.nan)"
   ]
  },
  {
   "cell_type": "markdown",
   "metadata": {
    "id": "JJpjPo2xHqNm"
   },
   "source": [
    "Для каждой колонки посмотрим все количество принимаемых значений и наличие пропусков."
   ]
  },
  {
   "cell_type": "markdown",
   "metadata": {
    "id": "vCFopnK9JTrd"
   },
   "source": [
    "Посмотрим на распределения `content_type`, `for_kids`, `age_rating`. Так как в некоторых фичах много пропусков имеет смысл построить графики с **nan** значениями и без."
   ]
  },
  {
   "cell_type": "code",
   "execution_count": 21,
   "metadata": {
    "colab": {
     "base_uri": "https://localhost:8080/",
     "height": 506
    },
    "executionInfo": {
     "elapsed": 27,
     "status": "ok",
     "timestamp": 1693818809158,
     "user": {
      "displayName": "Кирилл",
      "userId": "12610477662257539617"
     },
     "user_tz": -180
    },
    "id": "INyAlBt4JtpL",
    "outputId": "6c43b542-d797-4c3b-bc80-6f1bf8b2e25e"
   },
   "outputs": [
    {
     "data": {
      "image/png": "[encoded data removed]",
      "text/plain": [
       "<Figure size 1000x500 with 6 Axes>"
      ]
     },
     "metadata": {},
     "output_type": "display_data"
    }
   ],
   "source": [
    "fig, axes = plt.subplots(2, 3, figsize=(10, 5))\n",
    "\n",
    "for num, col in enumerate(['content_type', 'for_kids', 'age_rating']):\n",
    "  for row in range(2):\n",
    "    ax = axes[row, num]\n",
    "    category_counts = items_df[col].value_counts(dropna=row)\n",
    "    category_counts.plot(kind='bar', ax=ax)\n",
    "    ax.set_title(col)\n",
    "    if row and num == 0:\n",
    "      ax.set_ylabel('Без nan')\n",
    "    elif not row and num == 0:\n",
    "      ax.set_ylabel('Вместе с nan')\n",
    "\n",
    "plt.tight_layout()\n",
    "plt.show()"
   ]
  },
  {
   "cell_type": "markdown",
   "metadata": {
    "id": "tLUfUHtVlLsV"
   },
   "source": [
    "`for_kids` дублируется с `age_rating` - его можно исправить."
   ]
  },
  {
   "cell_type": "code",
   "execution_count": 22,
   "metadata": {
    "colab": {
     "base_uri": "https://localhost:8080/"
    },
    "executionInfo": {
     "elapsed": 25,
     "status": "ok",
     "timestamp": 1693818809159,
     "user": {
      "displayName": "Кирилл",
      "userId": "12610477662257539617"
     },
     "user_tz": -180
    },
    "id": "GiZtQE_3lVu8",
    "outputId": "51002523-1ef9-465f-8a13-6b005e5a776f"
   },
   "outputs": [
    {
     "name": "stdout",
     "output_type": "stream",
     "text": [
      "age_rating при котором фильм предназначен для детей: [0, 6, 12].\n"
     ]
    }
   ],
   "source": [
    "for_kids_age_ratings = items_df[['for_kids', 'age_rating']]\\\n",
    "        .query('for_kids == 1')['age_rating']\\\n",
    "        .unique().to_list()\n",
    "\n",
    "print(f'age_rating при котором фильм предназначен для детей: {for_kids_age_ratings}.')"
   ]
  },
  {
   "cell_type": "code",
   "execution_count": 23,
   "metadata": {
    "colab": {
     "base_uri": "https://localhost:8080/"
    },
    "executionInfo": {
     "elapsed": 23,
     "status": "ok",
     "timestamp": 1693818809161,
     "user": {
      "displayName": "Кирилл",
      "userId": "12610477662257539617"
     },
     "user_tz": -180
    },
    "id": "tNybFcO-pXrC",
    "outputId": "43e5cc99-0c00-4d34-833d-45e7fcd60beb"
   },
   "outputs": [
    {
     "name": "stdout",
     "output_type": "stream",
     "text": [
      "Количество пропусков после преобоазвания: 0\n"
     ]
    }
   ],
   "source": [
    "for rating in for_kids_age_ratings:\n",
    "  condition_for_kids = (items_df['for_kids'].isna()) & (items_df['age_rating'] == rating)\n",
    "  items_df.loc[condition_for_kids, 'for_kids'] = 1\n",
    "\n",
    "condition_not_for_kids = (items_df['for_kids'].isna()) & (items_df['age_rating'] != np.nan)\n",
    "items_df.loc[condition_not_for_kids, 'for_kids'] = 0\n",
    "\n",
    "print('Количество пропусков после преобоазвания:', items_df['for_kids'].isna().sum())"
   ]
  },
  {
   "cell_type": "markdown",
   "metadata": {
    "id": "5H1ty5F4NnA5"
   },
   "source": [
    "'Посмотрим на `release_year`, `genres`, `countries`, `studios`, `directors`."
   ]
  },
  {
   "cell_type": "code",
   "execution_count": 24,
   "metadata": {
    "colab": {
     "base_uri": "https://localhost:8080/",
     "height": 422
    },
    "executionInfo": {
     "elapsed": 1050,
     "status": "ok",
     "timestamp": 1693818810193,
     "user": {
      "displayName": "Кирилл",
      "userId": "12610477662257539617"
     },
     "user_tz": -180
    },
    "id": "HiaRaASmPIaP",
    "outputId": "44c01c03-1495-46f0-fa97-3c5b6bd9219f"
   },
   "outputs": [
    {
     "data": {
      "image/png": "[encoded data removed]",
      "text/plain": [
       "<Figure size 2000x500 with 1 Axes>"
      ]
     },
     "metadata": {},
     "output_type": "display_data"
    }
   ],
   "source": [
    "items_df['release_year'].value_counts(dropna=False).sort_values(ascending=False).plot(kind='bar', figsize=(20, 5))\n",
    "plt.xlabel('Год выпуска фильмов')\n",
    "plt.ylabel('Количество фильмо')\n",
    "plt.show()"
   ]
  },
  {
   "cell_type": "markdown",
   "metadata": {
    "id": "fB6gpU44b5jF"
   },
   "source": [
    "Можно предположить, что мы работает с данными за начало 2021 года, так как наблюдается общая тендеция к увеличению количества фильмов с годом (за последние 20 лет)."
   ]
  },
  {
   "cell_type": "code",
   "execution_count": 25,
   "metadata": {
    "colab": {
     "base_uri": "https://localhost:8080/",
     "height": 549
    },
    "executionInfo": {
     "elapsed": 819,
     "status": "ok",
     "timestamp": 1693818810998,
     "user": {
      "displayName": "Кирилл",
      "userId": "12610477662257539617"
     },
     "user_tz": -180
    },
    "id": "261akhqSY-NG",
    "outputId": "966c877b-a7dc-4040-fc66-a34404c2b380"
   },
   "outputs": [
    {
     "data": {
      "image/png": "[encoded data removed]",
      "text/plain": [
       "<Figure size 2000x500 with 1 Axes>"
      ]
     },
     "metadata": {},
     "output_type": "display_data"
    }
   ],
   "source": [
    "items_df['studios'].value_counts(dropna=True).plot(kind='bar', figsize=(20, 5))\n",
    "plt.xlabel('Студии')\n",
    "plt.ylabel('Количество фильмов студий')\n",
    "plt.show()"
   ]
  },
  {
   "cell_type": "code",
   "execution_count": 26,
   "metadata": {
    "colab": {
     "base_uri": "https://localhost:8080/"
    },
    "executionInfo": {
     "elapsed": 67,
     "status": "ok",
     "timestamp": 1693818811001,
     "user": {
      "displayName": "Кирилл",
      "userId": "12610477662257539617"
     },
     "user_tz": -180
    },
    "id": "zFv6xj4pZlpa",
    "outputId": "a4ee16fd-1d84-4a44-f591-27a8ba27ac8e"
   },
   "outputs": [
    {
     "data": {
      "text/plain": [
       "документальное               651\n",
       "драмы                        599\n",
       "комедии                      480\n",
       "для взрослых                 460\n",
       "русские, мелодрамы           231\n",
       "мелодрамы, комедии           229\n",
       "драмы, комедии               207\n",
       "драмы, мелодрамы             190\n",
       "мелодрамы                    185\n",
       "фитнес                       165\n",
       "драмы, мелодрамы, комедии    143\n",
       "драмы, триллеры              124\n",
       "no_genre                      89\n",
       "зарубежные, комедии           89\n",
       "драмы, зарубежные             86\n",
       "Name: genres, dtype: int64"
      ]
     },
     "execution_count": 26,
     "metadata": {},
     "output_type": "execute_result"
    }
   ],
   "source": [
    "items_df['genres'].value_counts()[:15]"
   ]
  },
  {
   "cell_type": "code",
   "execution_count": 27,
   "metadata": {
    "id": "GgP6m9UVcNXj"
   },
   "outputs": [],
   "source": [
    "items_df.loc[items_df['genres'] == 'no_genre', 'genres'] = np.nan"
   ]
  },
  {
   "cell_type": "code",
   "execution_count": 28,
   "metadata": {
    "colab": {
     "base_uri": "https://localhost:8080/"
    },
    "executionInfo": {
     "elapsed": 63,
     "status": "ok",
     "timestamp": 1693818811004,
     "user": {
      "displayName": "Кирилл",
      "userId": "12610477662257539617"
     },
     "user_tz": -180
    },
    "id": "SnwMI2h1gbPW",
    "outputId": "bf655039-6d0d-4f60-aa2b-29e16ab94926"
   },
   "outputs": [
    {
     "data": {
      "text/plain": [
       "США                    3370\n",
       "Россия                 3007\n",
       "Франция                 928\n",
       "СССР                    712\n",
       "Великобритания          577\n",
       "Италия                  200\n",
       "Республика Корея        193\n",
       "Украина                 192\n",
       "Канада                  181\n",
       "Испания                 157\n",
       "Германия                153\n",
       "Швеция                  121\n",
       "Великобритания, США     110\n",
       "Япония                   96\n",
       "Австралия                87\n",
       "Name: countries, dtype: int64"
      ]
     },
     "execution_count": 28,
     "metadata": {},
     "output_type": "execute_result"
    }
   ],
   "source": [
    "items_df['countries'].value_counts()[:15]"
   ]
  },
  {
   "cell_type": "code",
   "execution_count": 29,
   "metadata": {
    "colab": {
     "base_uri": "https://localhost:8080/"
    },
    "executionInfo": {
     "elapsed": 59,
     "status": "ok",
     "timestamp": 1693818811006,
     "user": {
      "displayName": "Кирилл",
      "userId": "12610477662257539617"
     },
     "user_tz": -180
    },
    "id": "Pson_lg_V5N7",
    "outputId": "3ac4f5a5-d05c-4340-c70e-a0f88a8de3e3"
   },
   "outputs": [
    {
     "data": {
      "text/plain": [
       "Оливье Шиабоду         402\n",
       "Денис Франческо         49\n",
       "Глова Роман Юрьевич     36\n",
       "Бад Фокс                27\n",
       "Сергей Зарев            26\n",
       "Стивен Спилберг         24\n",
       "Бернар Геррини          22\n",
       "Альфред Хичкок          22\n",
       "Отто Бауэр              18\n",
       "Артур Меркулов          18\n",
       "Уве Болл                16\n",
       "Роберт Земекис          16\n",
       "Ридли Скотт             16\n",
       "Ларс фон Триер          15\n",
       "Леонид Гайдай           14\n",
       "Name: directors, dtype: int64"
      ]
     },
     "execution_count": 29,
     "metadata": {},
     "output_type": "execute_result"
    }
   ],
   "source": [
    "items_df['directors'].value_counts()[:15]"
   ]
  },
  {
   "cell_type": "markdown",
   "metadata": {
    "id": "Vn9ZpJ1wcidX"
   },
   "source": [
    "### Взаимодействия"
   ]
  },
  {
   "cell_type": "code",
   "execution_count": 30,
   "metadata": {
    "colab": {
     "base_uri": "https://localhost:8080/",
     "height": 207
    },
    "executionInfo": {
     "elapsed": 54,
     "status": "ok",
     "timestamp": 1693818811007,
     "user": {
      "displayName": "Кирилл",
      "userId": "12610477662257539617"
     },
     "user_tz": -180
    },
    "id": "nfJdz3_5hoO5",
    "outputId": "42d5ae7e-a816-414a-f5a3-8fb3d0d42059"
   },
   "outputs": [
    {
     "data": {
      "text/html": [
       "<div>\n",
       "<style scoped>\n",
       "    .dataframe tbody tr th:only-of-type {\n",
       "        vertical-align: middle;\n",
       "    }\n",
       "\n",
       "    .dataframe tbody tr th {\n",
       "        vertical-align: top;\n",
       "    }\n",
       "\n",
       "    .dataframe thead th {\n",
       "        text-align: right;\n",
       "    }\n",
       "</style>\n",
       "<table border=\"1\" class=\"dataframe\">\n",
       "  <thead>\n",
       "    <tr style=\"text-align: right;\">\n",
       "      <th></th>\n",
       "      <th>user_id</th>\n",
       "      <th>item_id</th>\n",
       "      <th>last_watch_dt</th>\n",
       "      <th>total_dur</th>\n",
       "      <th>watched_pct</th>\n",
       "    </tr>\n",
       "  </thead>\n",
       "  <tbody>\n",
       "    <tr>\n",
       "      <th>1145283</th>\n",
       "      <td>935786</td>\n",
       "      <td>9444</td>\n",
       "      <td>2021-04-27</td>\n",
       "      <td>128.0</td>\n",
       "      <td>2.0</td>\n",
       "    </tr>\n",
       "    <tr>\n",
       "      <th>1036470</th>\n",
       "      <td>1092906</td>\n",
       "      <td>14317</td>\n",
       "      <td>2021-07-27</td>\n",
       "      <td>5548.0</td>\n",
       "      <td>86.0</td>\n",
       "    </tr>\n",
       "    <tr>\n",
       "      <th>808923</th>\n",
       "      <td>464651</td>\n",
       "      <td>5490</td>\n",
       "      <td>2021-06-26</td>\n",
       "      <td>8585.0</td>\n",
       "      <td>100.0</td>\n",
       "    </tr>\n",
       "    <tr>\n",
       "      <th>674275</th>\n",
       "      <td>422749</td>\n",
       "      <td>15997</td>\n",
       "      <td>2021-03-14</td>\n",
       "      <td>8165.0</td>\n",
       "      <td>100.0</td>\n",
       "    </tr>\n",
       "    <tr>\n",
       "      <th>262109</th>\n",
       "      <td>1011258</td>\n",
       "      <td>8132</td>\n",
       "      <td>2021-04-12</td>\n",
       "      <td>368.0</td>\n",
       "      <td>42.0</td>\n",
       "    </tr>\n",
       "  </tbody>\n",
       "</table>\n",
       "</div>"
      ],
      "text/plain": [
       "         user_id  item_id last_watch_dt  total_dur  watched_pct\n",
       "1145283   935786     9444    2021-04-27      128.0          2.0\n",
       "1036470  1092906    14317    2021-07-27     5548.0         86.0\n",
       "808923    464651     5490    2021-06-26     8585.0        100.0\n",
       "674275    422749    15997    2021-03-14     8165.0        100.0\n",
       "262109   1011258     8132    2021-04-12      368.0         42.0"
      ]
     },
     "execution_count": 30,
     "metadata": {},
     "output_type": "execute_result"
    }
   ],
   "source": [
    "interactions_df.sample(5)"
   ]
  },
  {
   "cell_type": "code",
   "execution_count": 31,
   "metadata": {
    "colab": {
     "base_uri": "https://localhost:8080/"
    },
    "executionInfo": {
     "elapsed": 53,
     "status": "ok",
     "timestamp": 1693818811009,
     "user": {
      "displayName": "Кирилл",
      "userId": "12610477662257539617"
     },
     "user_tz": -180
    },
    "id": "5aYLv0a8obyo",
    "outputId": "5dbc7f36-c7ee-4b7b-b7ff-dc3fecd44347"
   },
   "outputs": [
    {
     "name": "stdout",
     "output_type": "stream",
     "text": [
      "Количество просмотров: 1,224,560\n"
     ]
    }
   ],
   "source": [
    "print(f'Количество просмотров: {len(interactions_df):,}')"
   ]
  },
  {
   "cell_type": "markdown",
   "metadata": {
    "id": "a4f3qxI2iDOQ"
   },
   "source": [
    "Все так же как и выше: типы, пропуски."
   ]
  },
  {
   "cell_type": "code",
   "execution_count": 32,
   "metadata": {
    "colab": {
     "base_uri": "https://localhost:8080/"
    },
    "executionInfo": {
     "elapsed": 50,
     "status": "ok",
     "timestamp": 1693818811010,
     "user": {
      "displayName": "Кирилл",
      "userId": "12610477662257539617"
     },
     "user_tz": -180
    },
    "id": "uJMZoA7ZiN0n",
    "outputId": "aa100262-e309-4a6f-c768-d20fdc85bd51"
   },
   "outputs": [
    {
     "data": {
      "text/plain": [
       "user_id            int64\n",
       "item_id            int64\n",
       "last_watch_dt     object\n",
       "total_dur        float64\n",
       "watched_pct      float64\n",
       "dtype: object"
      ]
     },
     "execution_count": 32,
     "metadata": {},
     "output_type": "execute_result"
    }
   ],
   "source": [
    "interactions_df.dtypes"
   ]
  },
  {
   "cell_type": "code",
   "execution_count": 33,
   "metadata": {
    "colab": {
     "base_uri": "https://localhost:8080/"
    },
    "executionInfo": {
     "elapsed": 423,
     "status": "ok",
     "timestamp": 1693818811388,
     "user": {
      "displayName": "Кирилл",
      "userId": "12610477662257539617"
     },
     "user_tz": -180
    },
    "id": "WLYQwjekiWGW",
    "outputId": "b2ab62c9-0d9b-4d46-ef82-faa3f04a07ab"
   },
   "outputs": [
    {
     "data": {
      "text/plain": [
       "user_id          459099\n",
       "item_id           12067\n",
       "last_watch_dt       141\n",
       "total_dur         73361\n",
       "watched_pct         101\n",
       "dtype: int64"
      ]
     },
     "execution_count": 33,
     "metadata": {},
     "output_type": "execute_result"
    }
   ],
   "source": [
    "interactions_df.nunique()"
   ]
  },
  {
   "cell_type": "code",
   "execution_count": 34,
   "metadata": {
    "colab": {
     "base_uri": "https://localhost:8080/"
    },
    "executionInfo": {
     "elapsed": 14,
     "status": "ok",
     "timestamp": 1693818811389,
     "user": {
      "displayName": "Кирилл",
      "userId": "12610477662257539617"
     },
     "user_tz": -180
    },
    "id": "o-veCcU6oUsI",
    "outputId": "143215e0-7af5-494d-f355-24673b7d2c53"
   },
   "outputs": [
    {
     "data": {
      "text/plain": [
       "user_id            0\n",
       "item_id            0\n",
       "last_watch_dt      0\n",
       "total_dur          0\n",
       "watched_pct      265\n",
       "dtype: int64"
      ]
     },
     "execution_count": 34,
     "metadata": {},
     "output_type": "execute_result"
    }
   ],
   "source": [
    "interactions_df.isna().sum()"
   ]
  },
  {
   "cell_type": "code",
   "execution_count": 35,
   "metadata": {
    "colab": {
     "base_uri": "https://localhost:8080/"
    },
    "executionInfo": {
     "elapsed": 1010,
     "status": "ok",
     "timestamp": 1693818813478,
     "user": {
      "displayName": "Кирилл",
      "userId": "12610477662257539617"
     },
     "user_tz": -180
    },
    "id": "XX41I3Ho0vqS",
    "outputId": "9a25ee87-cf21-43a3-f715-d2c84ed053fc"
   },
   "outputs": [
    {
     "name": "stdout",
     "output_type": "stream",
     "text": [
      "Количество пользователей, про которых у нас есть информация: 366,088\n",
      "Количество пользователей, про которых мы ничего не знаем: 93,011\n"
     ]
    }
   ],
   "source": [
    "known_users = set(interactions_df['user_id']) & set(users_df['user_id'])\n",
    "unknown_users = set(interactions_df['user_id']) - set(users_df['user_id'])\n",
    "\n",
    "print(f'Количество пользователей, про которых у нас есть информация: {len(known_users):,}')\n",
    "print(f'Количество пользователей, про которых мы ничего не знаем: {len(unknown_users):,}')"
   ]
  },
  {
   "cell_type": "code",
   "execution_count": 36,
   "metadata": {
    "colab": {
     "base_uri": "https://localhost:8080/"
    },
    "executionInfo": {
     "elapsed": 11,
     "status": "ok",
     "timestamp": 1693818813478,
     "user": {
      "displayName": "Кирилл",
      "userId": "12610477662257539617"
     },
     "user_tz": -180
    },
    "id": "0ICaO5R326Mc",
    "outputId": "9a38c558-2638-4126-bb47-6b76dca423f3"
   },
   "outputs": [
    {
     "name": "stdout",
     "output_type": "stream",
     "text": [
      "Пролцент взаимодействий неизвестных пользователей: 7.6%.\n"
     ]
    }
   ],
   "source": [
    "percents_unknows_users_interactions = \\\n",
    "  round(len(interactions_df.loc[list(unknown_users), :]) / len(interactions_df) * 100, 2)\n",
    "\n",
    "print(f'Пролцент взаимодействий неизвестных пользователей: {percents_unknows_users_interactions}%.')"
   ]
  },
  {
   "cell_type": "markdown",
   "metadata": {
    "id": "HTnQXNoniili"
   },
   "source": [
    "Нам очень повезло с фильмами, так как все фильмы хотя бы один раз смотрели (количество `item_id` из `interactions_df` совпадает с количеством `item_id` из `items_df`). Вот с пользователями не так - у нас есть пользователи про которых мы ничего не знаем. Так же хочется отметить, что у нас всего лишь 141 день взаимодействий - это мало.\n",
    "\n",
    "Приведем типы к нормальным."
   ]
  },
  {
   "cell_type": "code",
   "execution_count": 37,
   "metadata": {
    "id": "rrVYW2j1pSmt"
   },
   "outputs": [],
   "source": [
    "interactions_df['last_watch_dt'] = pd.to_datetime(interactions_df['last_watch_dt'])\n",
    "interactions_df['total_dur'] = interactions_df['total_dur'].astype(int)"
   ]
  },
  {
   "cell_type": "markdown",
   "metadata": {
    "id": "GyLde8mhoAoP"
   },
   "source": [
    "Посмотрим на 25 самых популярных фильмов."
   ]
  },
  {
   "cell_type": "code",
   "execution_count": 38,
   "metadata": {
    "colab": {
     "base_uri": "https://localhost:8080/",
     "height": 834
    },
    "executionInfo": {
     "elapsed": 959,
     "status": "ok",
     "timestamp": 1693818814430,
     "user": {
      "displayName": "Кирилл",
      "userId": "12610477662257539617"
     },
     "user_tz": -180
    },
    "id": "QNmPR1Ggid5h",
    "outputId": "93dcafdb-f74c-4925-ceb0-a70ef52bd65d"
   },
   "outputs": [
    {
     "data": {
      "text/html": [
       "<div>\n",
       "<style scoped>\n",
       "    .dataframe tbody tr th:only-of-type {\n",
       "        vertical-align: middle;\n",
       "    }\n",
       "\n",
       "    .dataframe tbody tr th {\n",
       "        vertical-align: top;\n",
       "    }\n",
       "\n",
       "    .dataframe thead th {\n",
       "        text-align: right;\n",
       "    }\n",
       "</style>\n",
       "<table border=\"1\" class=\"dataframe\">\n",
       "  <thead>\n",
       "    <tr style=\"text-align: right;\">\n",
       "      <th></th>\n",
       "      <th>item_id</th>\n",
       "      <th>interactions</th>\n",
       "      <th>title</th>\n",
       "      <th>release_year</th>\n",
       "      <th>directors</th>\n",
       "    </tr>\n",
       "  </thead>\n",
       "  <tbody>\n",
       "    <tr>\n",
       "      <th>0</th>\n",
       "      <td>10440</td>\n",
       "      <td>46131</td>\n",
       "      <td>Хрустальный</td>\n",
       "      <td>2021</td>\n",
       "      <td>Душан Глигоров</td>\n",
       "    </tr>\n",
       "    <tr>\n",
       "      <th>1</th>\n",
       "      <td>15297</td>\n",
       "      <td>44703</td>\n",
       "      <td>Клиника счастья</td>\n",
       "      <td>2021</td>\n",
       "      <td>Александр Кириенко</td>\n",
       "    </tr>\n",
       "    <tr>\n",
       "      <th>2</th>\n",
       "      <td>13865</td>\n",
       "      <td>29403</td>\n",
       "      <td>Девятаев</td>\n",
       "      <td>2021</td>\n",
       "      <td>Тимур Бекмамбетов</td>\n",
       "    </tr>\n",
       "    <tr>\n",
       "      <th>3</th>\n",
       "      <td>9728</td>\n",
       "      <td>27188</td>\n",
       "      <td>Гнев человеческий</td>\n",
       "      <td>2021</td>\n",
       "      <td>Гай Ричи</td>\n",
       "    </tr>\n",
       "    <tr>\n",
       "      <th>4</th>\n",
       "      <td>4151</td>\n",
       "      <td>21921</td>\n",
       "      <td>Секреты семейной жизни</td>\n",
       "      <td>2021</td>\n",
       "      <td>Шота Гамисония</td>\n",
       "    </tr>\n",
       "    <tr>\n",
       "      <th>5</th>\n",
       "      <td>2657</td>\n",
       "      <td>17331</td>\n",
       "      <td>Подслушано</td>\n",
       "      <td>2021</td>\n",
       "      <td>Илья Куликов</td>\n",
       "    </tr>\n",
       "    <tr>\n",
       "      <th>6</th>\n",
       "      <td>3734</td>\n",
       "      <td>16969</td>\n",
       "      <td>Прабабушка легкого поведения</td>\n",
       "      <td>2021</td>\n",
       "      <td>Марюс Вайсберг</td>\n",
       "    </tr>\n",
       "    <tr>\n",
       "      <th>7</th>\n",
       "      <td>4880</td>\n",
       "      <td>14280</td>\n",
       "      <td>Афера</td>\n",
       "      <td>2021</td>\n",
       "      <td>Михаил Старчак</td>\n",
       "    </tr>\n",
       "    <tr>\n",
       "      <th>8</th>\n",
       "      <td>142</td>\n",
       "      <td>10969</td>\n",
       "      <td>Маша</td>\n",
       "      <td>2020</td>\n",
       "      <td>Анастасия Пальчикова</td>\n",
       "    </tr>\n",
       "    <tr>\n",
       "      <th>9</th>\n",
       "      <td>6809</td>\n",
       "      <td>10208</td>\n",
       "      <td>Дуров</td>\n",
       "      <td>2021</td>\n",
       "      <td>Родион Чепель</td>\n",
       "    </tr>\n",
       "    <tr>\n",
       "      <th>10</th>\n",
       "      <td>4740</td>\n",
       "      <td>9350</td>\n",
       "      <td>Сахаров. Две жизни</td>\n",
       "      <td>2021</td>\n",
       "      <td>Иван Проскуряков</td>\n",
       "    </tr>\n",
       "    <tr>\n",
       "      <th>11</th>\n",
       "      <td>9996</td>\n",
       "      <td>9238</td>\n",
       "      <td>Немцы</td>\n",
       "      <td>2021</td>\n",
       "      <td>Стас Иванов</td>\n",
       "    </tr>\n",
       "    <tr>\n",
       "      <th>12</th>\n",
       "      <td>8636</td>\n",
       "      <td>8856</td>\n",
       "      <td>Белый снег</td>\n",
       "      <td>2021</td>\n",
       "      <td>Николай Хомерики</td>\n",
       "    </tr>\n",
       "    <tr>\n",
       "      <th>13</th>\n",
       "      <td>11237</td>\n",
       "      <td>6872</td>\n",
       "      <td>День города</td>\n",
       "      <td>2021</td>\n",
       "      <td>Алексей Харитонов</td>\n",
       "    </tr>\n",
       "    <tr>\n",
       "      <th>14</th>\n",
       "      <td>1844</td>\n",
       "      <td>6787</td>\n",
       "      <td>Аферистка</td>\n",
       "      <td>2020</td>\n",
       "      <td>Джей Блейксон</td>\n",
       "    </tr>\n",
       "    <tr>\n",
       "      <th>15</th>\n",
       "      <td>7571</td>\n",
       "      <td>6423</td>\n",
       "      <td>100% волк</td>\n",
       "      <td>2020</td>\n",
       "      <td>Алекс Стадерманн</td>\n",
       "    </tr>\n",
       "    <tr>\n",
       "      <th>16</th>\n",
       "      <td>12995</td>\n",
       "      <td>5821</td>\n",
       "      <td>Восемь сотен</td>\n",
       "      <td>2020</td>\n",
       "      <td>Гуань Ху</td>\n",
       "    </tr>\n",
       "    <tr>\n",
       "      <th>17</th>\n",
       "      <td>14741</td>\n",
       "      <td>5796</td>\n",
       "      <td>Цвет из иных миров</td>\n",
       "      <td>2020</td>\n",
       "      <td>Ричард Стэнли</td>\n",
       "    </tr>\n",
       "    <tr>\n",
       "      <th>18</th>\n",
       "      <td>12192</td>\n",
       "      <td>5782</td>\n",
       "      <td>Фемида видит</td>\n",
       "      <td>2019</td>\n",
       "      <td>Никита Грамматиков, Ирина Бас</td>\n",
       "    </tr>\n",
       "    <tr>\n",
       "      <th>19</th>\n",
       "      <td>14431</td>\n",
       "      <td>5460</td>\n",
       "      <td>Приворот. Чёрное венчание</td>\n",
       "      <td>2021</td>\n",
       "      <td>Святослав Подгаевский</td>\n",
       "    </tr>\n",
       "    <tr>\n",
       "      <th>20</th>\n",
       "      <td>4457</td>\n",
       "      <td>5137</td>\n",
       "      <td>2067: Петля времени</td>\n",
       "      <td>2020</td>\n",
       "      <td>Сет Ларни</td>\n",
       "    </tr>\n",
       "    <tr>\n",
       "      <th>21</th>\n",
       "      <td>4495</td>\n",
       "      <td>4885</td>\n",
       "      <td>Пальмира</td>\n",
       "      <td>2020</td>\n",
       "      <td>Иван Болотников</td>\n",
       "    </tr>\n",
       "    <tr>\n",
       "      <th>22</th>\n",
       "      <td>7107</td>\n",
       "      <td>4750</td>\n",
       "      <td>Девятаев</td>\n",
       "      <td>2021</td>\n",
       "      <td>Тимур Бекмамбетов</td>\n",
       "    </tr>\n",
       "    <tr>\n",
       "      <th>23</th>\n",
       "      <td>7417</td>\n",
       "      <td>4564</td>\n",
       "      <td>Стендап под прикрытием</td>\n",
       "      <td>2020</td>\n",
       "      <td>Олег Асадулин</td>\n",
       "    </tr>\n",
       "    <tr>\n",
       "      <th>24</th>\n",
       "      <td>14703</td>\n",
       "      <td>4475</td>\n",
       "      <td>Денежная игла</td>\n",
       "      <td>2021</td>\n",
       "      <td>Джон Своб</td>\n",
       "    </tr>\n",
       "  </tbody>\n",
       "</table>\n",
       "</div>"
      ],
      "text/plain": [
       "    item_id  interactions                         title release_year  \\\n",
       "0     10440         46131                   Хрустальный         2021   \n",
       "1     15297         44703               Клиника счастья         2021   \n",
       "2     13865         29403                      Девятаев         2021   \n",
       "3      9728         27188             Гнев человеческий         2021   \n",
       "4      4151         21921        Секреты семейной жизни         2021   \n",
       "5      2657         17331                    Подслушано         2021   \n",
       "6      3734         16969  Прабабушка легкого поведения         2021   \n",
       "7      4880         14280                         Афера         2021   \n",
       "8       142         10969                          Маша         2020   \n",
       "9      6809         10208                         Дуров         2021   \n",
       "10     4740          9350            Сахаров. Две жизни         2021   \n",
       "11     9996          9238                         Немцы         2021   \n",
       "12     8636          8856                    Белый снег         2021   \n",
       "13    11237          6872                   День города         2021   \n",
       "14     1844          6787                     Аферистка         2020   \n",
       "15     7571          6423                     100% волк         2020   \n",
       "16    12995          5821                  Восемь сотен         2020   \n",
       "17    14741          5796            Цвет из иных миров         2020   \n",
       "18    12192          5782                  Фемида видит         2019   \n",
       "19    14431          5460     Приворот. Чёрное венчание         2021   \n",
       "20     4457          5137           2067: Петля времени         2020   \n",
       "21     4495          4885                      Пальмира         2020   \n",
       "22     7107          4750                      Девятаев         2021   \n",
       "23     7417          4564        Стендап под прикрытием         2020   \n",
       "24    14703          4475                 Денежная игла         2021   \n",
       "\n",
       "                        directors  \n",
       "0                  Душан Глигоров  \n",
       "1              Александр Кириенко  \n",
       "2               Тимур Бекмамбетов  \n",
       "3                        Гай Ричи  \n",
       "4                  Шота Гамисония  \n",
       "5                    Илья Куликов  \n",
       "6                  Марюс Вайсберг  \n",
       "7                  Михаил Старчак  \n",
       "8            Анастасия Пальчикова  \n",
       "9                   Родион Чепель  \n",
       "10               Иван Проскуряков  \n",
       "11                    Стас Иванов  \n",
       "12               Николай Хомерики  \n",
       "13              Алексей Харитонов  \n",
       "14                  Джей Блейксон  \n",
       "15               Алекс Стадерманн  \n",
       "16                       Гуань Ху  \n",
       "17                  Ричард Стэнли  \n",
       "18  Никита Грамматиков, Ирина Бас  \n",
       "19          Святослав Подгаевский  \n",
       "20                      Сет Ларни  \n",
       "21                Иван Болотников  \n",
       "22              Тимур Бекмамбетов  \n",
       "23                  Олег Асадулин  \n",
       "24                      Джон Своб  "
      ]
     },
     "execution_count": 38,
     "metadata": {},
     "output_type": "execute_result"
    }
   ],
   "source": [
    "top_25_items_by_views = interactions_df['item_id'].value_counts()\n",
    "top_items_df = pd.DataFrame(top_25_items_by_views).reset_index()\n",
    "\n",
    "top_items_df.columns = ['item_id', 'interactions']\n",
    "\n",
    "top_items_by_views = top_items_df.merge(items_df[['item_id', 'title', 'release_year', 'directors']],\n",
    "                                        on='item_id',\n",
    "                                        how='left')\n",
    "top_items_by_views[:25]"
   ]
  },
  {
   "cell_type": "markdown",
   "metadata": {
    "id": "oUFZUMzQsRDQ"
   },
   "source": [
    "Посчитаем взвешенное среднее между процентом просмотра и количеством просмотров."
   ]
  },
  {
   "cell_type": "code",
   "execution_count": 39,
   "metadata": {
    "colab": {
     "base_uri": "https://localhost:8080/",
     "height": 834
    },
    "executionInfo": {
     "elapsed": 7063,
     "status": "ok",
     "timestamp": 1693818821482,
     "user": {
      "displayName": "Кирилл",
      "userId": "12610477662257539617"
     },
     "user_tz": -180
    },
    "id": "4JKkrFeTqVda",
    "outputId": "d2c05ea1-e529-4d73-890a-acfa924ff8bb"
   },
   "outputs": [
    {
     "data": {
      "text/html": [
       "<div>\n",
       "<style scoped>\n",
       "    .dataframe tbody tr th:only-of-type {\n",
       "        vertical-align: middle;\n",
       "    }\n",
       "\n",
       "    .dataframe tbody tr th {\n",
       "        vertical-align: top;\n",
       "    }\n",
       "\n",
       "    .dataframe thead th {\n",
       "        text-align: right;\n",
       "    }\n",
       "</style>\n",
       "<table border=\"1\" class=\"dataframe\">\n",
       "  <thead>\n",
       "    <tr style=\"text-align: right;\">\n",
       "      <th></th>\n",
       "      <th>item_id</th>\n",
       "      <th>title</th>\n",
       "      <th>release_year</th>\n",
       "      <th>directors</th>\n",
       "    </tr>\n",
       "  </thead>\n",
       "  <tbody>\n",
       "    <tr>\n",
       "      <th>0</th>\n",
       "      <td>15297</td>\n",
       "      <td>Клиника счастья</td>\n",
       "      <td>2021</td>\n",
       "      <td>Александр Кириенко</td>\n",
       "    </tr>\n",
       "    <tr>\n",
       "      <th>1</th>\n",
       "      <td>10440</td>\n",
       "      <td>Хрустальный</td>\n",
       "      <td>2021</td>\n",
       "      <td>Душан Глигоров</td>\n",
       "    </tr>\n",
       "    <tr>\n",
       "      <th>2</th>\n",
       "      <td>13865</td>\n",
       "      <td>Девятаев</td>\n",
       "      <td>2021</td>\n",
       "      <td>Тимур Бекмамбетов</td>\n",
       "    </tr>\n",
       "    <tr>\n",
       "      <th>3</th>\n",
       "      <td>9728</td>\n",
       "      <td>Гнев человеческий</td>\n",
       "      <td>2021</td>\n",
       "      <td>Гай Ричи</td>\n",
       "    </tr>\n",
       "    <tr>\n",
       "      <th>4</th>\n",
       "      <td>3734</td>\n",
       "      <td>Прабабушка легкого поведения</td>\n",
       "      <td>2021</td>\n",
       "      <td>Марюс Вайсберг</td>\n",
       "    </tr>\n",
       "    <tr>\n",
       "      <th>5</th>\n",
       "      <td>4151</td>\n",
       "      <td>Секреты семейной жизни</td>\n",
       "      <td>2021</td>\n",
       "      <td>Шота Гамисония</td>\n",
       "    </tr>\n",
       "    <tr>\n",
       "      <th>6</th>\n",
       "      <td>142</td>\n",
       "      <td>Маша</td>\n",
       "      <td>2020</td>\n",
       "      <td>Анастасия Пальчикова</td>\n",
       "    </tr>\n",
       "    <tr>\n",
       "      <th>7</th>\n",
       "      <td>8636</td>\n",
       "      <td>Белый снег</td>\n",
       "      <td>2021</td>\n",
       "      <td>Николай Хомерики</td>\n",
       "    </tr>\n",
       "    <tr>\n",
       "      <th>8</th>\n",
       "      <td>6809</td>\n",
       "      <td>Дуров</td>\n",
       "      <td>2021</td>\n",
       "      <td>Родион Чепель</td>\n",
       "    </tr>\n",
       "    <tr>\n",
       "      <th>9</th>\n",
       "      <td>11237</td>\n",
       "      <td>День города</td>\n",
       "      <td>2021</td>\n",
       "      <td>Алексей Харитонов</td>\n",
       "    </tr>\n",
       "    <tr>\n",
       "      <th>10</th>\n",
       "      <td>1844</td>\n",
       "      <td>Аферистка</td>\n",
       "      <td>2020</td>\n",
       "      <td>Джей Блейксон</td>\n",
       "    </tr>\n",
       "    <tr>\n",
       "      <th>11</th>\n",
       "      <td>4740</td>\n",
       "      <td>Сахаров. Две жизни</td>\n",
       "      <td>2021</td>\n",
       "      <td>Иван Проскуряков</td>\n",
       "    </tr>\n",
       "    <tr>\n",
       "      <th>12</th>\n",
       "      <td>7571</td>\n",
       "      <td>100% волк</td>\n",
       "      <td>2020</td>\n",
       "      <td>Алекс Стадерманн</td>\n",
       "    </tr>\n",
       "    <tr>\n",
       "      <th>13</th>\n",
       "      <td>2657</td>\n",
       "      <td>Подслушано</td>\n",
       "      <td>2021</td>\n",
       "      <td>Илья Куликов</td>\n",
       "    </tr>\n",
       "    <tr>\n",
       "      <th>14</th>\n",
       "      <td>14431</td>\n",
       "      <td>Приворот. Чёрное венчание</td>\n",
       "      <td>2021</td>\n",
       "      <td>Святослав Подгаевский</td>\n",
       "    </tr>\n",
       "    <tr>\n",
       "      <th>15</th>\n",
       "      <td>7417</td>\n",
       "      <td>Стендап под прикрытием</td>\n",
       "      <td>2020</td>\n",
       "      <td>Олег Асадулин</td>\n",
       "    </tr>\n",
       "    <tr>\n",
       "      <th>16</th>\n",
       "      <td>4457</td>\n",
       "      <td>2067: Петля времени</td>\n",
       "      <td>2020</td>\n",
       "      <td>Сет Ларни</td>\n",
       "    </tr>\n",
       "    <tr>\n",
       "      <th>17</th>\n",
       "      <td>9996</td>\n",
       "      <td>Немцы</td>\n",
       "      <td>2021</td>\n",
       "      <td>Стас Иванов</td>\n",
       "    </tr>\n",
       "    <tr>\n",
       "      <th>18</th>\n",
       "      <td>4495</td>\n",
       "      <td>Пальмира</td>\n",
       "      <td>2020</td>\n",
       "      <td>Иван Болотников</td>\n",
       "    </tr>\n",
       "    <tr>\n",
       "      <th>19</th>\n",
       "      <td>14741</td>\n",
       "      <td>Цвет из иных миров</td>\n",
       "      <td>2020</td>\n",
       "      <td>Ричард Стэнли</td>\n",
       "    </tr>\n",
       "    <tr>\n",
       "      <th>20</th>\n",
       "      <td>12995</td>\n",
       "      <td>Восемь сотен</td>\n",
       "      <td>2020</td>\n",
       "      <td>Гуань Ху</td>\n",
       "    </tr>\n",
       "    <tr>\n",
       "      <th>21</th>\n",
       "      <td>4436</td>\n",
       "      <td>Ford против Ferrari</td>\n",
       "      <td>2019</td>\n",
       "      <td>Джеймс Мэнголд</td>\n",
       "    </tr>\n",
       "    <tr>\n",
       "      <th>22</th>\n",
       "      <td>14703</td>\n",
       "      <td>Денежная игла</td>\n",
       "      <td>2021</td>\n",
       "      <td>Джон Своб</td>\n",
       "    </tr>\n",
       "    <tr>\n",
       "      <th>23</th>\n",
       "      <td>1819</td>\n",
       "      <td>Непосредственно Каха</td>\n",
       "      <td>2020</td>\n",
       "      <td>Виктор Шамиров</td>\n",
       "    </tr>\n",
       "    <tr>\n",
       "      <th>24</th>\n",
       "      <td>7102</td>\n",
       "      <td>Дочь волка</td>\n",
       "      <td>2019</td>\n",
       "      <td>Дэвид Хэкл</td>\n",
       "    </tr>\n",
       "  </tbody>\n",
       "</table>\n",
       "</div>"
      ],
      "text/plain": [
       "    item_id                         title release_year              directors\n",
       "0     15297               Клиника счастья         2021     Александр Кириенко\n",
       "1     10440                   Хрустальный         2021         Душан Глигоров\n",
       "2     13865                      Девятаев         2021      Тимур Бекмамбетов\n",
       "3      9728             Гнев человеческий         2021               Гай Ричи\n",
       "4      3734  Прабабушка легкого поведения         2021         Марюс Вайсберг\n",
       "5      4151        Секреты семейной жизни         2021         Шота Гамисония\n",
       "6       142                          Маша         2020   Анастасия Пальчикова\n",
       "7      8636                    Белый снег         2021       Николай Хомерики\n",
       "8      6809                         Дуров         2021          Родион Чепель\n",
       "9     11237                   День города         2021      Алексей Харитонов\n",
       "10     1844                     Аферистка         2020          Джей Блейксон\n",
       "11     4740            Сахаров. Две жизни         2021       Иван Проскуряков\n",
       "12     7571                     100% волк         2020       Алекс Стадерманн\n",
       "13     2657                    Подслушано         2021           Илья Куликов\n",
       "14    14431     Приворот. Чёрное венчание         2021  Святослав Подгаевский\n",
       "15     7417        Стендап под прикрытием         2020          Олег Асадулин\n",
       "16     4457           2067: Петля времени         2020              Сет Ларни\n",
       "17     9996                         Немцы         2021            Стас Иванов\n",
       "18     4495                      Пальмира         2020        Иван Болотников\n",
       "19    14741            Цвет из иных миров         2020          Ричард Стэнли\n",
       "20    12995                  Восемь сотен         2020               Гуань Ху\n",
       "21     4436           Ford против Ferrari         2019         Джеймс Мэнголд\n",
       "22    14703                 Денежная игла         2021              Джон Своб\n",
       "23     1819          Непосредственно Каха         2020         Виктор Шамиров\n",
       "24     7102                    Дочь волка         2019             Дэвид Хэкл"
      ]
     },
     "execution_count": 39,
     "metadata": {},
     "output_type": "execute_result"
    }
   ],
   "source": [
    "weighted_mean = interactions_df.groupby('item_id')\\\n",
    "  .apply(lambda group: group['watched_pct'].mean() * group.shape[0] / interactions_df.shape[0])\n",
    "\n",
    "weighted_mean = weighted_mean.sort_values(ascending=False)\n",
    "\n",
    "top_items_df = pd.DataFrame(weighted_mean).reset_index()\n",
    "\n",
    "top_items_df.columns = ['item_id', 'interactions']\n",
    "\n",
    "top_items_by_weighted_mean = top_items_df.merge(items_df[['item_id',\n",
    "                                                          'title',\n",
    "                                                          'release_year',\n",
    "                                                          'directors']],\n",
    "                                                on='item_id',\n",
    "                                                how='left').drop('interactions', axis=1)\n",
    "top_items_by_weighted_mean[:25]"
   ]
  },
  {
   "cell_type": "markdown",
   "metadata": {
    "id": "RmAyg6u-umer"
   },
   "source": [
    "Исследуем дату просмотра."
   ]
  },
  {
   "cell_type": "code",
   "execution_count": 40,
   "metadata": {
    "colab": {
     "base_uri": "https://localhost:8080/"
    },
    "executionInfo": {
     "elapsed": 1042,
     "status": "ok",
     "timestamp": 1693818822514,
     "user": {
      "displayName": "Кирилл",
      "userId": "12610477662257539617"
     },
     "user_tz": -180
    },
    "id": "YmAB0Q-1x0dc",
    "outputId": "2af490ef-1a5d-4184-de0d-5933267c697b"
   },
   "outputs": [
    {
     "data": {
      "text/plain": [
       "2021    1224560\n",
       "Name: last_watch_dt, dtype: int64"
      ]
     },
     "execution_count": 40,
     "metadata": {},
     "output_type": "execute_result"
    }
   ],
   "source": [
    "interactions_df['last_watch_dt'].dt.year.value_counts(dropna=False)"
   ]
  },
  {
   "cell_type": "markdown",
   "metadata": {
    "id": "jwmsGlnqx7g4"
   },
   "source": [
    "Видим, что все данные у нас за 2021 год"
   ]
  },
  {
   "cell_type": "code",
   "execution_count": 41,
   "metadata": {
    "colab": {
     "base_uri": "https://localhost:8080/",
     "height": 444
    },
    "executionInfo": {
     "elapsed": 1163,
     "status": "ok",
     "timestamp": 1693818823667,
     "user": {
      "displayName": "Кирилл",
      "userId": "12610477662257539617"
     },
     "user_tz": -180
    },
    "id": "9QJvC11osSrW",
    "outputId": "3d75c97f-cc17-4545-d4b4-499e1ae36f9e"
   },
   "outputs": [
    {
     "data": {
      "image/png": "[encoded data removed]",
      "text/plain": [
       "<Figure size 640x480 with 1 Axes>"
      ]
     },
     "metadata": {},
     "output_type": "display_data"
    }
   ],
   "source": [
    "interactions_df['last_watch_dt'].dt.month.value_counts().plot(kind='bar')\n",
    "plt.xlabel('Месяц')\n",
    "plt.ylabel('Количество просмотров в месяц')\n",
    "plt.show()"
   ]
  },
  {
   "cell_type": "markdown",
   "metadata": {
    "id": "6QTGI-1azbrU"
   },
   "source": [
    "Видим, что со временем количество просмотров увеличивается, видимо сервис активно развивается."
   ]
  },
  {
   "cell_type": "code",
   "execution_count": 42,
   "metadata": {
    "colab": {
     "base_uri": "https://localhost:8080/"
    },
    "executionInfo": {
     "elapsed": 45,
     "status": "ok",
     "timestamp": 1693818823669,
     "user": {
      "displayName": "Кирилл",
      "userId": "12610477662257539617"
     },
     "user_tz": -180
    },
    "id": "mSIePO2iziHq",
    "outputId": "6666d83e-53d9-408d-eef5-4f106e113bca"
   },
   "outputs": [
    {
     "name": "stdout",
     "output_type": "stream",
     "text": [
      "Дата первого просмотра фильма: Mar 13, 2021\n"
     ]
    }
   ],
   "source": [
    "first_interaction_time = interactions_df['last_watch_dt'].\\\n",
    "                            sort_values().\\\n",
    "                            reset_index(drop=True)[0].strftime('%b %d, %Y')\n",
    "print('Дата первого просмотра фильма:', first_interaction_time)"
   ]
  },
  {
   "cell_type": "markdown",
   "metadata": {
    "id": "_jDYhKwR2AR7"
   },
   "source": [
    "Это странно, потому что сам **kion** запустился [20 апреля 2021](https://ru.wikipedia.org/wiki/Kion). Судя по информации [отсюда](https://telepedia.fandom.com/ru/wiki/Kion) у **kion** есть партнерство с первым каналом, возможно первый канал поделился историей просмоторов со своего сайта. ([\"Первый канал\" предоставляет \"МТС Медиа\" права на использование контента из библиотеки игрового и документального кино, а также новые фильмы и сериалы, не выходивших ранее в эфире вещателя](https://https://telepedia.fandom.com/ru/wiki/Kion)). (Может быть и такое, что данные, с которыми мы работаем сильно изменены).\n"
   ]
  },
  {
   "cell_type": "markdown",
   "metadata": {
    "id": "mmsVdUlWshJ-"
   },
   "source": [
    "## Feature engineering"
   ]
  },
  {
   "cell_type": "markdown",
   "metadata": {
    "id": "KPKXnc4ZgCiG"
   },
   "source": [
    "### Пользователи"
   ]
  },
  {
   "cell_type": "markdown",
   "metadata": {
    "id": "y60mqJiDfUDk"
   },
   "source": [
    "Посчитаем количество просмотренных фильмов."
   ]
  },
  {
   "cell_type": "code",
   "execution_count": 43,
   "metadata": {
    "colab": {
     "base_uri": "https://localhost:8080/",
     "height": 144
    },
    "executionInfo": {
     "elapsed": 36,
     "status": "ok",
     "timestamp": 1693818823670,
     "user": {
      "displayName": "Кирилл",
      "userId": "12610477662257539617"
     },
     "user_tz": -180
    },
    "id": "WUj0cDeXmLIF",
    "outputId": "f9350f79-95fa-4c07-aeda-90ec0779d776"
   },
   "outputs": [
    {
     "data": {
      "text/html": [
       "<div>\n",
       "<style scoped>\n",
       "    .dataframe tbody tr th:only-of-type {\n",
       "        vertical-align: middle;\n",
       "    }\n",
       "\n",
       "    .dataframe tbody tr th {\n",
       "        vertical-align: top;\n",
       "    }\n",
       "\n",
       "    .dataframe thead th {\n",
       "        text-align: right;\n",
       "    }\n",
       "</style>\n",
       "<table border=\"1\" class=\"dataframe\">\n",
       "  <thead>\n",
       "    <tr style=\"text-align: right;\">\n",
       "      <th></th>\n",
       "      <th>user_id</th>\n",
       "      <th>num_watched_films</th>\n",
       "    </tr>\n",
       "  </thead>\n",
       "  <tbody>\n",
       "    <tr>\n",
       "      <th>321660</th>\n",
       "      <td>468367</td>\n",
       "      <td>1</td>\n",
       "    </tr>\n",
       "    <tr>\n",
       "      <th>58741</th>\n",
       "      <td>500100</td>\n",
       "      <td>5</td>\n",
       "    </tr>\n",
       "    <tr>\n",
       "      <th>110897</th>\n",
       "      <td>660230</td>\n",
       "      <td>3</td>\n",
       "    </tr>\n",
       "  </tbody>\n",
       "</table>\n",
       "</div>"
      ],
      "text/plain": [
       "        user_id  num_watched_films\n",
       "321660   468367                  1\n",
       "58741    500100                  5\n",
       "110897   660230                  3"
      ]
     },
     "execution_count": 43,
     "metadata": {},
     "output_type": "execute_result"
    }
   ],
   "source": [
    "count_user_interactions_df = pd.DataFrame(interactions_df['user_id'].value_counts()).reset_index()\n",
    "count_user_interactions_df = count_user_interactions_df.rename(columns={'index':'user_id', 'user_id':'num_watched_films'})\n",
    "count_user_interactions_df.sample(3)"
   ]
  },
  {
   "cell_type": "code",
   "execution_count": 44,
   "metadata": {
    "colab": {
     "base_uri": "https://localhost:8080/",
     "height": 144
    },
    "executionInfo": {
     "elapsed": 32,
     "status": "ok",
     "timestamp": 1693818823670,
     "user": {
      "displayName": "Кирилл",
      "userId": "12610477662257539617"
     },
     "user_tz": -180
    },
    "id": "oG8DFLVqmqTU",
    "outputId": "d92bcc21-c92e-4017-804d-cf551e01d402"
   },
   "outputs": [
    {
     "data": {
      "text/html": [
       "<div>\n",
       "<style scoped>\n",
       "    .dataframe tbody tr th:only-of-type {\n",
       "        vertical-align: middle;\n",
       "    }\n",
       "\n",
       "    .dataframe tbody tr th {\n",
       "        vertical-align: top;\n",
       "    }\n",
       "\n",
       "    .dataframe thead th {\n",
       "        text-align: right;\n",
       "    }\n",
       "</style>\n",
       "<table border=\"1\" class=\"dataframe\">\n",
       "  <thead>\n",
       "    <tr style=\"text-align: right;\">\n",
       "      <th></th>\n",
       "      <th>user_id</th>\n",
       "      <th>age</th>\n",
       "      <th>income</th>\n",
       "      <th>sex</th>\n",
       "      <th>kids_flg</th>\n",
       "      <th>num_watched_films</th>\n",
       "    </tr>\n",
       "  </thead>\n",
       "  <tbody>\n",
       "    <tr>\n",
       "      <th>37609</th>\n",
       "      <td>250056</td>\n",
       "      <td>age_35_44</td>\n",
       "      <td>income_40_60</td>\n",
       "      <td>М</td>\n",
       "      <td>True</td>\n",
       "      <td>1</td>\n",
       "    </tr>\n",
       "    <tr>\n",
       "      <th>242348</th>\n",
       "      <td>882885</td>\n",
       "      <td>age_55_64</td>\n",
       "      <td>income_20_40</td>\n",
       "      <td>М</td>\n",
       "      <td>True</td>\n",
       "      <td>2</td>\n",
       "    </tr>\n",
       "    <tr>\n",
       "      <th>148846</th>\n",
       "      <td>687745</td>\n",
       "      <td>age_25_34</td>\n",
       "      <td>income_40_60</td>\n",
       "      <td>Ж</td>\n",
       "      <td>True</td>\n",
       "      <td>2</td>\n",
       "    </tr>\n",
       "  </tbody>\n",
       "</table>\n",
       "</div>"
      ],
      "text/plain": [
       "        user_id        age        income sex  kids_flg  num_watched_films\n",
       "37609    250056  age_35_44  income_40_60   М      True                  1\n",
       "242348   882885  age_55_64  income_20_40   М      True                  2\n",
       "148846   687745  age_25_34  income_40_60   Ж      True                  2"
      ]
     },
     "execution_count": 44,
     "metadata": {},
     "output_type": "execute_result"
    }
   ],
   "source": [
    "users_df = users_df.merge(count_user_interactions_df, on='user_id', how='left')\n",
    "users_df.sample(3)"
   ]
  },
  {
   "cell_type": "code",
   "execution_count": 45,
   "metadata": {
    "colab": {
     "base_uri": "https://localhost:8080/"
    },
    "executionInfo": {
     "elapsed": 603,
     "status": "ok",
     "timestamp": 1693818824245,
     "user": {
      "displayName": "Кирилл",
      "userId": "12610477662257539617"
     },
     "user_tz": -180
    },
    "id": "PmC_Argopwca",
    "outputId": "f0b07b87-1494-409f-a4c0-c3f347e4f124"
   },
   "outputs": [
    {
     "name": "stdout",
     "output_type": "stream",
     "text": [
      "Среднее количество просмотренных фильмов:  2.72\n"
     ]
    }
   ],
   "source": [
    "print('Среднее количество просмотренных фильмов: ', round(users_df['num_watched_films'].mean(), 2))"
   ]
  },
  {
   "cell_type": "markdown",
   "metadata": {
    "id": "8a2dNcZReryl"
   },
   "source": [
    "Посчитаем среднее время просмотра фильма для каждого пользователя."
   ]
  },
  {
   "cell_type": "code",
   "execution_count": 46,
   "metadata": {
    "colab": {
     "base_uri": "https://localhost:8080/",
     "height": 144
    },
    "executionInfo": {
     "elapsed": 4426,
     "status": "ok",
     "timestamp": 1693818828666,
     "user": {
      "displayName": "Кирилл",
      "userId": "12610477662257539617"
     },
     "user_tz": -180
    },
    "id": "wHlQvZPOpLhP",
    "outputId": "e2ee6e83-399a-4082-849f-0fbab73f678b"
   },
   "outputs": [
    {
     "data": {
      "text/html": [
       "<div>\n",
       "<style scoped>\n",
       "    .dataframe tbody tr th:only-of-type {\n",
       "        vertical-align: middle;\n",
       "    }\n",
       "\n",
       "    .dataframe tbody tr th {\n",
       "        vertical-align: top;\n",
       "    }\n",
       "\n",
       "    .dataframe thead th {\n",
       "        text-align: right;\n",
       "    }\n",
       "</style>\n",
       "<table border=\"1\" class=\"dataframe\">\n",
       "  <thead>\n",
       "    <tr style=\"text-align: right;\">\n",
       "      <th></th>\n",
       "      <th>user_id</th>\n",
       "      <th>age</th>\n",
       "      <th>income</th>\n",
       "      <th>sex</th>\n",
       "      <th>kids_flg</th>\n",
       "      <th>num_watched_films</th>\n",
       "      <th>mean_dur</th>\n",
       "    </tr>\n",
       "  </thead>\n",
       "  <tbody>\n",
       "    <tr>\n",
       "      <th>342572</th>\n",
       "      <td>519150</td>\n",
       "      <td>age_18_24</td>\n",
       "      <td>income_20_40</td>\n",
       "      <td>М</td>\n",
       "      <td>False</td>\n",
       "      <td>2</td>\n",
       "      <td>3414</td>\n",
       "    </tr>\n",
       "    <tr>\n",
       "      <th>122245</th>\n",
       "      <td>1068636</td>\n",
       "      <td>age_65_inf</td>\n",
       "      <td>income_20_40</td>\n",
       "      <td>М</td>\n",
       "      <td>False</td>\n",
       "      <td>1</td>\n",
       "      <td>2840</td>\n",
       "    </tr>\n",
       "    <tr>\n",
       "      <th>107557</th>\n",
       "      <td>445749</td>\n",
       "      <td>age_45_54</td>\n",
       "      <td>income_20_40</td>\n",
       "      <td>М</td>\n",
       "      <td>False</td>\n",
       "      <td>2</td>\n",
       "      <td>1394</td>\n",
       "    </tr>\n",
       "  </tbody>\n",
       "</table>\n",
       "</div>"
      ],
      "text/plain": [
       "        user_id         age        income sex  kids_flg  num_watched_films  \\\n",
       "342572   519150   age_18_24  income_20_40   М     False                  2   \n",
       "122245  1068636  age_65_inf  income_20_40   М     False                  1   \n",
       "107557   445749   age_45_54  income_20_40   М     False                  2   \n",
       "\n",
       "        mean_dur  \n",
       "342572      3414  \n",
       "122245      2840  \n",
       "107557      1394  "
      ]
     },
     "execution_count": 46,
     "metadata": {},
     "output_type": "execute_result"
    }
   ],
   "source": [
    "mean_user_dur_df = \\\n",
    "  pd.DataFrame(interactions_df.groupby('user_id')['total_dur'].mean().reset_index())\\\n",
    "      .rename(columns={'total_dur': 'mean_dur'})\n",
    "mean_user_dur_df['mean_dur'] = np.round(mean_user_dur_df['mean_dur']).apply(np.int64)\n",
    "users_df = users_df.merge(mean_user_dur_df, on='user_id', how='left')\n",
    "users_df.sample(3)"
   ]
  },
  {
   "cell_type": "markdown",
   "metadata": {
    "id": "7kQvBsl6gFrl"
   },
   "source": [
    "### Фильмы"
   ]
  },
  {
   "cell_type": "markdown",
   "metadata": {
    "id": "qaS1UQweeeyZ"
   },
   "source": [
    "Посчитаем популярность фильма по просмотрам."
   ]
  },
  {
   "cell_type": "code",
   "execution_count": 47,
   "metadata": {
    "id": "OeKql5wpyuJD"
   },
   "outputs": [],
   "source": [
    "count_items_views_df = interactions_df['item_id']\\\n",
    "                          .value_counts()\\\n",
    "                          .reset_index()\\\n",
    "                          .rename(columns={'index':'item_id', 'item_id': 'views'})\n",
    "items_df = items_df.merge(count_items_views_df, on='item_id', how='left')"
   ]
  },
  {
   "cell_type": "markdown",
   "metadata": {
    "id": "7GNdUJjQeZT9"
   },
   "source": [
    "Посчитаем средний процент просмотра для каждого фильма."
   ]
  },
  {
   "cell_type": "code",
   "execution_count": 48,
   "metadata": {
    "id": "IckqSKfl3PYp"
   },
   "outputs": [],
   "source": [
    "mean_pct_items_df = interactions_df[['item_id', 'watched_pct']]\\\n",
    "                          .groupby('item_id', as_index=False)\\\n",
    "                          .mean()\n",
    "items_df = items_df.merge(mean_pct_items_df, on='item_id', how='left')"
   ]
  },
  {
   "cell_type": "markdown",
   "metadata": {
    "id": "QCJ91VnYvdqR"
   },
   "source": [
    "Посчитаем средную продолжительность просмотра для каждого фильма."
   ]
  },
  {
   "cell_type": "code",
   "execution_count": 49,
   "metadata": {
    "id": "wsCZsnedvip_"
   },
   "outputs": [],
   "source": [
    "mean_pct_items_df = interactions_df[['item_id', 'total_dur']]\\\n",
    "                          .groupby('item_id', as_index=False)\\\n",
    "                          .mean()\n",
    "items_df = items_df.merge(mean_pct_items_df, on='item_id', how='left')"
   ]
  },
  {
   "cell_type": "markdown",
   "metadata": {
    "id": "4s-ZrlDyl5Wu"
   },
   "source": [
    "Посчитаем взвешенное среднее между популярностью и процентом просмотра фильмов."
   ]
  },
  {
   "cell_type": "code",
   "execution_count": 50,
   "metadata": {
    "id": "3e1zTqXi1I2f"
   },
   "outputs": [],
   "source": [
    "top_items_df['weighted_average_rank'] = top_items_df['interactions'].rank()\n",
    "top_items_df = top_items_df.drop('interactions', axis=1)\n",
    "items_df = items_df.merge(top_items_df, on='item_id', how='left')"
   ]
  },
  {
   "cell_type": "code",
   "execution_count": 51,
   "metadata": {
    "id": "NycSJtSm8euv"
   },
   "outputs": [],
   "source": [
    "items_df.rename(columns={'total_dur' : 'mean_total_dur',\n",
    "                         'watched_pct': 'mean_watched_pct'}, inplace=True)"
   ]
  },
  {
   "cell_type": "markdown",
   "metadata": {
    "id": "Y_4_FJ7HSrxg"
   },
   "source": [
    "Посчитаем для каждого фильма популярную возрастную категорию, пол, доход."
   ]
  },
  {
   "cell_type": "code",
   "execution_count": 53,
   "metadata": {
    "id": "clnYrDjDW0gn"
   },
   "outputs": [],
   "source": [
    "for column in ['age', 'sex', 'income']:\n",
    "  items_top_age_df = interactions_df[['user_id', 'item_id']].merge(users_df[['user_id', column]],\n",
    "                                                                   on='user_id',\n",
    "                                                                   how='left')[['item_id', column]]\n",
    "  items_top_age_df = items_top_age_df.groupby('item_id')[column]\\\n",
    "    .apply(lambda x: x.value_counts().idxmax())\\\n",
    "    .reset_index()\n",
    "\n",
    "  items_df = items_df.merge(items_top_age_df.rename(columns={column: 'top' + column}),\n",
    "                            how='left',\n",
    "                            on='item_id')"
   ]
  },
  {
   "cell_type": "code",
   "execution_count": 54,
   "metadata": {
    "colab": {
     "base_uri": "https://localhost:8080/",
     "height": 471
    },
    "executionInfo": {
     "elapsed": 17,
     "status": "ok",
     "timestamp": 1693818860743,
     "user": {
      "displayName": "Кирилл",
      "userId": "12610477662257539617"
     },
     "user_tz": -180
    },
    "id": "j2Bur1LOWcwF",
    "outputId": "c4b430f9-9214-411e-b086-f8b077435ce1"
   },
   "outputs": [
    {
     "data": {
      "text/html": [
       "<div>\n",
       "<style scoped>\n",
       "    .dataframe tbody tr th:only-of-type {\n",
       "        vertical-align: middle;\n",
       "    }\n",
       "\n",
       "    .dataframe tbody tr th {\n",
       "        vertical-align: top;\n",
       "    }\n",
       "\n",
       "    .dataframe thead th {\n",
       "        text-align: right;\n",
       "    }\n",
       "</style>\n",
       "<table border=\"1\" class=\"dataframe\">\n",
       "  <thead>\n",
       "    <tr style=\"text-align: right;\">\n",
       "      <th></th>\n",
       "      <th>item_id</th>\n",
       "      <th>content_type</th>\n",
       "      <th>title</th>\n",
       "      <th>title_orig</th>\n",
       "      <th>release_year</th>\n",
       "      <th>genres</th>\n",
       "      <th>countries</th>\n",
       "      <th>for_kids</th>\n",
       "      <th>age_rating</th>\n",
       "      <th>studios</th>\n",
       "      <th>...</th>\n",
       "      <th>description</th>\n",
       "      <th>keywords</th>\n",
       "      <th>views</th>\n",
       "      <th>mean_watched_pct</th>\n",
       "      <th>mean_total_dur</th>\n",
       "      <th>weighted_average_rank</th>\n",
       "      <th>topage_x</th>\n",
       "      <th>topage_y</th>\n",
       "      <th>topsex</th>\n",
       "      <th>topincome</th>\n",
       "    </tr>\n",
       "  </thead>\n",
       "  <tbody>\n",
       "    <tr>\n",
       "      <th>7297</th>\n",
       "      <td>2365</td>\n",
       "      <td>film</td>\n",
       "      <td>Принцесса</td>\n",
       "      <td>Princesse</td>\n",
       "      <td>2015</td>\n",
       "      <td>комедии</td>\n",
       "      <td>Франция</td>\n",
       "      <td>0</td>\n",
       "      <td>16</td>\n",
       "      <td>NaN</td>\n",
       "      <td>...</td>\n",
       "      <td>Семилетняя Лоиз увидела в витрине магазина чуд...</td>\n",
       "      <td>2015, франция, принцесса</td>\n",
       "      <td>3</td>\n",
       "      <td>92.333333</td>\n",
       "      <td>627.333333</td>\n",
       "      <td>6073.5</td>\n",
       "      <td>age_35_44</td>\n",
       "      <td>age_35_44</td>\n",
       "      <td>М</td>\n",
       "      <td>income_0_20</td>\n",
       "    </tr>\n",
       "    <tr>\n",
       "      <th>7588</th>\n",
       "      <td>2494</td>\n",
       "      <td>film</td>\n",
       "      <td>Манчестер у моря</td>\n",
       "      <td>Manchester by the Sea</td>\n",
       "      <td>2016</td>\n",
       "      <td>драмы</td>\n",
       "      <td>США</td>\n",
       "      <td>0</td>\n",
       "      <td>18</td>\n",
       "      <td>NaN</td>\n",
       "      <td>...</td>\n",
       "      <td>Нелюдимый и погруженный в себя Ли работает сле...</td>\n",
       "      <td>лодка, печаль, Бостон, Массачусетс, похороны, ...</td>\n",
       "      <td>2</td>\n",
       "      <td>100.000000</td>\n",
       "      <td>19101.000000</td>\n",
       "      <td>5390.5</td>\n",
       "      <td>age_25_34</td>\n",
       "      <td>age_25_34</td>\n",
       "      <td>М</td>\n",
       "      <td>income_40_60</td>\n",
       "    </tr>\n",
       "    <tr>\n",
       "      <th>3440</th>\n",
       "      <td>861</td>\n",
       "      <td>film</td>\n",
       "      <td>Проигранное место</td>\n",
       "      <td>Proigrannoe mesto</td>\n",
       "      <td>2018</td>\n",
       "      <td>ужасы, триллеры, детективы</td>\n",
       "      <td>Россия</td>\n",
       "      <td>0</td>\n",
       "      <td>16</td>\n",
       "      <td>NaN</td>\n",
       "      <td>...</td>\n",
       "      <td>Среди старшеклассников бытует легенда о «проиг...</td>\n",
       "      <td>2018, россия, проигранное, место</td>\n",
       "      <td>130</td>\n",
       "      <td>64.315385</td>\n",
       "      <td>4707.315385</td>\n",
       "      <td>10799.0</td>\n",
       "      <td>age_25_34</td>\n",
       "      <td>age_25_34</td>\n",
       "      <td>Ж</td>\n",
       "      <td>income_20_40</td>\n",
       "    </tr>\n",
       "  </tbody>\n",
       "</table>\n",
       "<p>3 rows × 22 columns</p>\n",
       "</div>"
      ],
      "text/plain": [
       "      item_id content_type              title             title_orig  \\\n",
       "7297     2365         film          Принцесса              Princesse   \n",
       "7588     2494         film   Манчестер у моря  Manchester by the Sea   \n",
       "3440      861         film  Проигранное место      Proigrannoe mesto   \n",
       "\n",
       "     release_year                      genres countries for_kids age_rating  \\\n",
       "7297         2015                     комедии   Франция        0         16   \n",
       "7588         2016                       драмы       США        0         18   \n",
       "3440         2018  ужасы, триллеры, детективы    Россия        0         16   \n",
       "\n",
       "     studios  ...                                        description  \\\n",
       "7297     NaN  ...  Семилетняя Лоиз увидела в витрине магазина чуд...   \n",
       "7588     NaN  ...  Нелюдимый и погруженный в себя Ли работает сле...   \n",
       "3440     NaN  ...  Среди старшеклассников бытует легенда о «проиг...   \n",
       "\n",
       "                                               keywords views  \\\n",
       "7297                           2015, франция, принцесса     3   \n",
       "7588  лодка, печаль, Бостон, Массачусетс, похороны, ...     2   \n",
       "3440                   2018, россия, проигранное, место   130   \n",
       "\n",
       "     mean_watched_pct  mean_total_dur  weighted_average_rank   topage_x  \\\n",
       "7297        92.333333      627.333333                 6073.5  age_35_44   \n",
       "7588       100.000000    19101.000000                 5390.5  age_25_34   \n",
       "3440        64.315385     4707.315385                10799.0  age_25_34   \n",
       "\n",
       "       topage_y topsex     topincome  \n",
       "7297  age_35_44      М   income_0_20  \n",
       "7588  age_25_34      М  income_40_60  \n",
       "3440  age_25_34      Ж  income_20_40  \n",
       "\n",
       "[3 rows x 22 columns]"
      ]
     },
     "execution_count": 54,
     "metadata": {},
     "output_type": "execute_result"
    }
   ],
   "source": [
    "items_df.sample(3)"
   ]
  },
  {
   "cell_type": "markdown",
   "metadata": {
    "id": "-UdfbshXbH-Z"
   },
   "source": [
    "## Сохранение полученных данных.\n",
    "\n"
   ]
  },
  {
   "cell_type": "code",
   "execution_count": 55,
   "metadata": {
    "id": "hBvonQ6eabVo",
    "tags": []
   },
   "outputs": [],
   "source": [
    "featured_data_folder = 'kion_data_featured/'\n",
    "\n",
    "items_df.to_csv(featured_data_folder + 'items.csv')\n",
    "users_df.to_csv(featured_data_folder + 'users.csv')\n",
    "interactions_df.to_csv(featured_data_folder + 'train.csv')"
   ]
  }
 ],
 "metadata": {
  "colab": {
   "authorship_tag": "ABX9TyO9FJQwXnd226zCJ/DwvJXa",
   "mount_file_id": "1ZY4BfgJb7GFln3ydew_UztvmpqrQ2PWV",
   "provenance": [],
   "toc_visible": true
  },
  "kernelspec": {
   "display_name": "Python 3 (ipykernel)",
   "language": "python",
   "name": "python3"
  },
  "language_info": {
   "codemirror_mode": {
    "name": "ipython",
    "version": 3
   },
   "file_extension": ".py",
   "mimetype": "text/x-python",
   "name": "python",
   "nbconvert_exporter": "python",
   "pygments_lexer": "ipython3",
   "version": "3.8.16"
  }
 },
 "nbformat": 4,
 "nbformat_minor": 4
}
